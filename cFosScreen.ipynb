{
  "cells": [
    {
      "cell_type": "markdown",
      "source": [
        "The purpose of this code is to get a quick summary of potential ROIs, as determined by a whole brain cFos mapping pilot. In this case, individual csv files we are pulling from were provided by LifeCanvas Technologies\n",
        "\n",
        "This code will:\n",
        "1. Create a dataframe combining all cFos files in a given folder, with new columns specifying (1) subject's experimental condition and (2) unique subject ID\n",
        "2. Create an output file of plots summarizing data from each brain region, where each brain region has its own row. In each row:\n",
        "- The left plot with contain cFos densities from left hemisphere, separated by experimental condition\n",
        "- The middle plot will contain cFos densities from the right hemisphere, separated by experimental condition\n",
        "- The right plot will contain average cFos densities from combined hemispheres\n",
        "3. Create an output file of p values, ranked in descending order of statistical significance, that can be used to search for potential plots of interest"
      ],
      "metadata": {
        "id": "YuEYd6EoHMDu"
      }
    },
    {
      "cell_type": "code",
      "source": [
        "#IMPORT REQUIRED LIBRARIES\n",
        "import pandas as pd\n",
        "import glob\n",
        "import numpy as np\n",
        "import matplotlib\n",
        "import matplotlib.pyplot as plt\n",
        "from matplotlib.backends.backend_pdf import PdfPages\n",
        "import scipy.stats as stats"
      ],
      "metadata": {
        "id": "CpYoRA-0Y8v7"
      },
      "execution_count": 1,
      "outputs": []
    },
    {
      "cell_type": "code",
      "source": [
        "#SPECIFY PATH TO FOLDER CONTAINING DATA\n",
        "from google.colab import drive #Mount google drive: if your datasets are not stored in gdrive, skip this\n",
        "drive.mount('/content/gdrive')\n",
        "PATH = \"gdrive/MyDrive/Whole brain cFos analysis/Dam Spreadsheets/\""
      ],
      "metadata": {
        "colab": {
          "base_uri": "https://localhost:8080/"
        },
        "id": "XSu8W1vi_Qnn",
        "outputId": "857b7b24-2385-4554-f643-6a7ed78986e7"
      },
      "execution_count": 2,
      "outputs": [
        {
          "output_type": "stream",
          "name": "stdout",
          "text": [
            "Drive already mounted at /content/gdrive; to attempt to forcibly remount, call drive.mount(\"/content/gdrive\", force_remount=True).\n"
          ]
        }
      ]
    },
    {
      "cell_type": "code",
      "source": [
        "#COMBINE DATA FROM ALL DATA FILES INTO SINGLE DATA FRAME\n",
        "\n",
        "# Get list of CSV files in path\n",
        "file_paths = glob.glob(PATH + '*.csv')\n",
        "\n",
        "# Initialize an empty list to store individual DataFrames\n",
        "dfs = []\n",
        "\n",
        "#Create individual DataFrames for each CSV file\n",
        "for i in range(0,len(file_paths)):\n",
        "    df = pd.read_csv(file_paths[i])\n",
        "    # Add a columns for 1) the unique mom ID and 2) condition (sep or no sep)\n",
        "    filePath = file_paths[i] #using specific file name\n",
        "    index = filePath.find(\"Mom\") #find \"Mom\", which preceeds unique dam ID\n",
        "    if index != -1 and index + len(\"Mom\") < len(filePath): #get index of number after \"Mom\"\n",
        "      DamID = filePath[index + len(\"Mom\")]\n",
        "      df[\"DamID\"] = DamID #append column with Dam ID\n",
        "    if index != -1 and index + len(\"Mom\") < len(filePath): #get index of condition before \".csv\"\n",
        "      DamID = filePath[index + (len(\"Mom\")+2)]\n",
        "      df[\"Condition\"] = DamID #append column with Condition\n",
        "    # Append the DataFrame to the list\n",
        "    dfs.append(df)\n",
        "\n",
        "# Concatenate all DataFrames in the list vertically\n",
        "combined_df = pd.concat(dfs, ignore_index=True)\n",
        "\n",
        "# Print the combined DataFrame\n",
        "combined_df"
      ],
      "metadata": {
        "colab": {
          "base_uri": "https://localhost:8080/",
          "height": 696
        },
        "id": "cMEwvI3DBBLx",
        "outputId": "70d7aab1-655b-4cf5-b392-7a4af2954652"
      },
      "execution_count": 3,
      "outputs": [
        {
          "output_type": "execute_result",
          "data": {
            "text/plain": [
              "          id                                      name acronym  \\\n",
              "0         -1                                background     bkd   \n",
              "1          0                                 left root  root-L   \n",
              "2          1        left Basic cell groups and regions  grey-L   \n",
              "3          2                             left Cerebrum    CH-L   \n",
              "4          3                      left Cerebral cortex   CTX-L   \n",
              "...      ...                                       ...     ...   \n",
              "13419  11299                     right third ventricle    V3-R   \n",
              "13420  11300                   right cerebral aqueduct    AQ-R   \n",
              "13421  11301                    right fourth ventricle    V4-R   \n",
              "13422  11302                      right lateral recess   V4r-R   \n",
              "13423  11303  right central canal, spinal cord/medulla     c-R   \n",
              "\n",
              "       parent_structure_id  depth    count  volume (mm^3)  \\\n",
              "0                     -2.0   -1.0  12287.0     699.556516   \n",
              "1                     -1.0    0.0  67134.0     250.985562   \n",
              "2                      0.0    1.0  65136.0     224.592938   \n",
              "3                      1.0    2.0  57995.0     137.893719   \n",
              "4                      2.0    3.0  55589.0     110.753453   \n",
              "...                    ...    ...      ...            ...   \n",
              "13419              11292.0    2.0    779.0       0.466687   \n",
              "13420              11292.0    2.0    107.0       0.209484   \n",
              "13421              11292.0    2.0    158.0       0.485563   \n",
              "13422              11301.0    3.0     84.0       0.231766   \n",
              "13423              11292.0    2.0      0.0       0.000469   \n",
              "\n",
              "       density (cells/mm^3) DamID Condition  \n",
              "0                 17.563985     1         n  \n",
              "1                267.481521     1         n  \n",
              "2                290.018024     1         n  \n",
              "3                420.577533     1         n  \n",
              "4                501.916630     1         n  \n",
              "...                     ...   ...       ...  \n",
              "13419           1669.211196     9         S  \n",
              "13420            510.777952     9         S  \n",
              "13421            325.395804     9         S  \n",
              "13422            362.435111     9         S  \n",
              "13423              0.000000     9         S  \n",
              "\n",
              "[13424 rows x 10 columns]"
            ],
            "text/html": [
              "\n",
              "  <div id=\"df-34d73c74-671c-499f-8c54-635b36181a17\">\n",
              "    <div class=\"colab-df-container\">\n",
              "      <div>\n",
              "<style scoped>\n",
              "    .dataframe tbody tr th:only-of-type {\n",
              "        vertical-align: middle;\n",
              "    }\n",
              "\n",
              "    .dataframe tbody tr th {\n",
              "        vertical-align: top;\n",
              "    }\n",
              "\n",
              "    .dataframe thead th {\n",
              "        text-align: right;\n",
              "    }\n",
              "</style>\n",
              "<table border=\"1\" class=\"dataframe\">\n",
              "  <thead>\n",
              "    <tr style=\"text-align: right;\">\n",
              "      <th></th>\n",
              "      <th>id</th>\n",
              "      <th>name</th>\n",
              "      <th>acronym</th>\n",
              "      <th>parent_structure_id</th>\n",
              "      <th>depth</th>\n",
              "      <th>count</th>\n",
              "      <th>volume (mm^3)</th>\n",
              "      <th>density (cells/mm^3)</th>\n",
              "      <th>DamID</th>\n",
              "      <th>Condition</th>\n",
              "    </tr>\n",
              "  </thead>\n",
              "  <tbody>\n",
              "    <tr>\n",
              "      <th>0</th>\n",
              "      <td>-1</td>\n",
              "      <td>background</td>\n",
              "      <td>bkd</td>\n",
              "      <td>-2.0</td>\n",
              "      <td>-1.0</td>\n",
              "      <td>12287.0</td>\n",
              "      <td>699.556516</td>\n",
              "      <td>17.563985</td>\n",
              "      <td>1</td>\n",
              "      <td>n</td>\n",
              "    </tr>\n",
              "    <tr>\n",
              "      <th>1</th>\n",
              "      <td>0</td>\n",
              "      <td>left root</td>\n",
              "      <td>root-L</td>\n",
              "      <td>-1.0</td>\n",
              "      <td>0.0</td>\n",
              "      <td>67134.0</td>\n",
              "      <td>250.985562</td>\n",
              "      <td>267.481521</td>\n",
              "      <td>1</td>\n",
              "      <td>n</td>\n",
              "    </tr>\n",
              "    <tr>\n",
              "      <th>2</th>\n",
              "      <td>1</td>\n",
              "      <td>left Basic cell groups and regions</td>\n",
              "      <td>grey-L</td>\n",
              "      <td>0.0</td>\n",
              "      <td>1.0</td>\n",
              "      <td>65136.0</td>\n",
              "      <td>224.592938</td>\n",
              "      <td>290.018024</td>\n",
              "      <td>1</td>\n",
              "      <td>n</td>\n",
              "    </tr>\n",
              "    <tr>\n",
              "      <th>3</th>\n",
              "      <td>2</td>\n",
              "      <td>left Cerebrum</td>\n",
              "      <td>CH-L</td>\n",
              "      <td>1.0</td>\n",
              "      <td>2.0</td>\n",
              "      <td>57995.0</td>\n",
              "      <td>137.893719</td>\n",
              "      <td>420.577533</td>\n",
              "      <td>1</td>\n",
              "      <td>n</td>\n",
              "    </tr>\n",
              "    <tr>\n",
              "      <th>4</th>\n",
              "      <td>3</td>\n",
              "      <td>left Cerebral cortex</td>\n",
              "      <td>CTX-L</td>\n",
              "      <td>2.0</td>\n",
              "      <td>3.0</td>\n",
              "      <td>55589.0</td>\n",
              "      <td>110.753453</td>\n",
              "      <td>501.916630</td>\n",
              "      <td>1</td>\n",
              "      <td>n</td>\n",
              "    </tr>\n",
              "    <tr>\n",
              "      <th>...</th>\n",
              "      <td>...</td>\n",
              "      <td>...</td>\n",
              "      <td>...</td>\n",
              "      <td>...</td>\n",
              "      <td>...</td>\n",
              "      <td>...</td>\n",
              "      <td>...</td>\n",
              "      <td>...</td>\n",
              "      <td>...</td>\n",
              "      <td>...</td>\n",
              "    </tr>\n",
              "    <tr>\n",
              "      <th>13419</th>\n",
              "      <td>11299</td>\n",
              "      <td>right third ventricle</td>\n",
              "      <td>V3-R</td>\n",
              "      <td>11292.0</td>\n",
              "      <td>2.0</td>\n",
              "      <td>779.0</td>\n",
              "      <td>0.466687</td>\n",
              "      <td>1669.211196</td>\n",
              "      <td>9</td>\n",
              "      <td>S</td>\n",
              "    </tr>\n",
              "    <tr>\n",
              "      <th>13420</th>\n",
              "      <td>11300</td>\n",
              "      <td>right cerebral aqueduct</td>\n",
              "      <td>AQ-R</td>\n",
              "      <td>11292.0</td>\n",
              "      <td>2.0</td>\n",
              "      <td>107.0</td>\n",
              "      <td>0.209484</td>\n",
              "      <td>510.777952</td>\n",
              "      <td>9</td>\n",
              "      <td>S</td>\n",
              "    </tr>\n",
              "    <tr>\n",
              "      <th>13421</th>\n",
              "      <td>11301</td>\n",
              "      <td>right fourth ventricle</td>\n",
              "      <td>V4-R</td>\n",
              "      <td>11292.0</td>\n",
              "      <td>2.0</td>\n",
              "      <td>158.0</td>\n",
              "      <td>0.485563</td>\n",
              "      <td>325.395804</td>\n",
              "      <td>9</td>\n",
              "      <td>S</td>\n",
              "    </tr>\n",
              "    <tr>\n",
              "      <th>13422</th>\n",
              "      <td>11302</td>\n",
              "      <td>right lateral recess</td>\n",
              "      <td>V4r-R</td>\n",
              "      <td>11301.0</td>\n",
              "      <td>3.0</td>\n",
              "      <td>84.0</td>\n",
              "      <td>0.231766</td>\n",
              "      <td>362.435111</td>\n",
              "      <td>9</td>\n",
              "      <td>S</td>\n",
              "    </tr>\n",
              "    <tr>\n",
              "      <th>13423</th>\n",
              "      <td>11303</td>\n",
              "      <td>right central canal, spinal cord/medulla</td>\n",
              "      <td>c-R</td>\n",
              "      <td>11292.0</td>\n",
              "      <td>2.0</td>\n",
              "      <td>0.0</td>\n",
              "      <td>0.000469</td>\n",
              "      <td>0.000000</td>\n",
              "      <td>9</td>\n",
              "      <td>S</td>\n",
              "    </tr>\n",
              "  </tbody>\n",
              "</table>\n",
              "<p>13424 rows × 10 columns</p>\n",
              "</div>\n",
              "      <button class=\"colab-df-convert\" onclick=\"convertToInteractive('df-34d73c74-671c-499f-8c54-635b36181a17')\"\n",
              "              title=\"Convert this dataframe to an interactive table.\"\n",
              "              style=\"display:none;\">\n",
              "        \n",
              "  <svg xmlns=\"http://www.w3.org/2000/svg\" height=\"24px\"viewBox=\"0 0 24 24\"\n",
              "       width=\"24px\">\n",
              "    <path d=\"M0 0h24v24H0V0z\" fill=\"none\"/>\n",
              "    <path d=\"M18.56 5.44l.94 2.06.94-2.06 2.06-.94-2.06-.94-.94-2.06-.94 2.06-2.06.94zm-11 1L8.5 8.5l.94-2.06 2.06-.94-2.06-.94L8.5 2.5l-.94 2.06-2.06.94zm10 10l.94 2.06.94-2.06 2.06-.94-2.06-.94-.94-2.06-.94 2.06-2.06.94z\"/><path d=\"M17.41 7.96l-1.37-1.37c-.4-.4-.92-.59-1.43-.59-.52 0-1.04.2-1.43.59L10.3 9.45l-7.72 7.72c-.78.78-.78 2.05 0 2.83L4 21.41c.39.39.9.59 1.41.59.51 0 1.02-.2 1.41-.59l7.78-7.78 2.81-2.81c.8-.78.8-2.07 0-2.86zM5.41 20L4 18.59l7.72-7.72 1.47 1.35L5.41 20z\"/>\n",
              "  </svg>\n",
              "      </button>\n",
              "      \n",
              "  <style>\n",
              "    .colab-df-container {\n",
              "      display:flex;\n",
              "      flex-wrap:wrap;\n",
              "      gap: 12px;\n",
              "    }\n",
              "\n",
              "    .colab-df-convert {\n",
              "      background-color: #E8F0FE;\n",
              "      border: none;\n",
              "      border-radius: 50%;\n",
              "      cursor: pointer;\n",
              "      display: none;\n",
              "      fill: #1967D2;\n",
              "      height: 32px;\n",
              "      padding: 0 0 0 0;\n",
              "      width: 32px;\n",
              "    }\n",
              "\n",
              "    .colab-df-convert:hover {\n",
              "      background-color: #E2EBFA;\n",
              "      box-shadow: 0px 1px 2px rgba(60, 64, 67, 0.3), 0px 1px 3px 1px rgba(60, 64, 67, 0.15);\n",
              "      fill: #174EA6;\n",
              "    }\n",
              "\n",
              "    [theme=dark] .colab-df-convert {\n",
              "      background-color: #3B4455;\n",
              "      fill: #D2E3FC;\n",
              "    }\n",
              "\n",
              "    [theme=dark] .colab-df-convert:hover {\n",
              "      background-color: #434B5C;\n",
              "      box-shadow: 0px 1px 3px 1px rgba(0, 0, 0, 0.15);\n",
              "      filter: drop-shadow(0px 1px 2px rgba(0, 0, 0, 0.3));\n",
              "      fill: #FFFFFF;\n",
              "    }\n",
              "  </style>\n",
              "\n",
              "      <script>\n",
              "        const buttonEl =\n",
              "          document.querySelector('#df-34d73c74-671c-499f-8c54-635b36181a17 button.colab-df-convert');\n",
              "        buttonEl.style.display =\n",
              "          google.colab.kernel.accessAllowed ? 'block' : 'none';\n",
              "\n",
              "        async function convertToInteractive(key) {\n",
              "          const element = document.querySelector('#df-34d73c74-671c-499f-8c54-635b36181a17');\n",
              "          const dataTable =\n",
              "            await google.colab.kernel.invokeFunction('convertToInteractive',\n",
              "                                                     [key], {});\n",
              "          if (!dataTable) return;\n",
              "\n",
              "          const docLinkHtml = 'Like what you see? Visit the ' +\n",
              "            '<a target=\"_blank\" href=https://colab.research.google.com/notebooks/data_table.ipynb>data table notebook</a>'\n",
              "            + ' to learn more about interactive tables.';\n",
              "          element.innerHTML = '';\n",
              "          dataTable['output_type'] = 'display_data';\n",
              "          await google.colab.output.renderOutput(dataTable, element);\n",
              "          const docLink = document.createElement('div');\n",
              "          docLink.innerHTML = docLinkHtml;\n",
              "          element.appendChild(docLink);\n",
              "        }\n",
              "      </script>\n",
              "    </div>\n",
              "  </div>\n",
              "  "
            ]
          },
          "metadata": {},
          "execution_count": 3
        }
      ]
    },
    {
      "cell_type": "code",
      "source": [
        "#FIND LIST OF ACRONYMS COMMON TO BOTH HEMISPHERES TO ITERATE THROUGH FOR PLOTTING/ANALYSIS\n",
        "\n",
        "# Left\n",
        "left_hemisphere = combined_df[combined_df['acronym'].str.endswith('-L')] #generate dataframe for left hemisphere\n",
        "unique_acronymsL = list(left_hemisphere['acronym'].unique()) #get one set of left hemisphere acronyms (not repeating by subject)\n",
        "\n",
        "# Right\n",
        "right_hemisphere = combined_df[combined_df['acronym'].str.endswith('-R')] #generate dataframe for right hemisphere\n",
        "unique_acronymsR = list(right_hemisphere['acronym'].unique()) #get one set of right hemisphere acronyms (not repeating by subject)\n",
        "\n",
        "#Filter out acronyms that don't exist in both hemispheres\n",
        "predicted_unique_acronymsR = np.core.defchararray.replace(unique_acronymsL, '-L', '-R') #first predict -R acronyms from -L acronyms\n",
        "\n",
        "#second, filter out predicted -R acronyms not in actual -R acronyms set\n",
        "final_acronyms = []\n",
        "for i in range(0,len(predicted_unique_acronymsR)):\n",
        "  if predicted_unique_acronymsR[i] == unique_acronymsR[i]:\n",
        "    final_acronyms.append(predicted_unique_acronymsR[i])\n",
        "\n",
        "#here are final acronyms to use for iteration\n",
        "final_acronyms = np.core.defchararray.replace(final_acronyms, '-R', '')\n",
        "final_acronymsR = np.char.add(final_acronyms, '-R')\n",
        "final_acronymsL = np.char.add(final_acronyms, '-L')"
      ],
      "metadata": {
        "id": "rEDodUkm9mMK"
      },
      "execution_count": 4,
      "outputs": []
    },
    {
      "cell_type": "code",
      "source": [
        "#GENERATE OUTPUT FILE CONTAINING PLOTS FOR ALL REGIONS\n",
        "\n",
        "# Specify x-axis locations for L v R hemisphere plots\n",
        "xS = np.zeros(4)  # for separated condition\n",
        "xN = np.ones(4)  # for non-separated condition\n",
        "\n",
        "# Plot hemisphere data\n",
        "# Set up the figure and axes for the subplots\n",
        "fig, axes = plt.subplots(len(final_acronymsL), 3, sharey='row')\n",
        "fig.set_size_inches(3, 654)\n",
        "fig.tight_layout(rect=[0.1, 0, 1, 1])\n",
        "\n",
        "for i, (acronymL, acronymR) in enumerate(zip(final_acronymsL, final_acronymsR)):\n",
        "    left_condition_S = (left_hemisphere['acronym'] == acronymL) & (left_hemisphere['Condition'] == 'S')\n",
        "    left_condition_N = (left_hemisphere['acronym'] == acronymL) & (left_hemisphere['Condition'] == 'n')\n",
        "    right_condition_S = (right_hemisphere['acronym'] == acronymR) & (right_hemisphere['Condition'] == 'S')\n",
        "    right_condition_N = (right_hemisphere['acronym'] == acronymR) & (right_hemisphere['Condition'] == 'n')\n",
        "\n",
        "    # Left hemisphere, both conditions\n",
        "    leftData_Sep = left_hemisphere.loc[left_condition_S, 'density (cells/mm^3)']\n",
        "    leftData_No = left_hemisphere.loc[left_condition_N, 'density (cells/mm^3)']\n",
        "    axes[i, 0].scatter(xS, leftData_Sep)\n",
        "    axes[i, 0].scatter(xN, leftData_No)\n",
        "    axes[i, 0].set_title(str(acronymL))\n",
        "    axes[i, 0].set_xticks([0, 1])\n",
        "    axes[i, 0].set_xticklabels(['sep', 'no'])\n",
        "\n",
        "    # Right hemisphere, both conditions\n",
        "    rightData_Sep = right_hemisphere.loc[right_condition_S, 'density (cells/mm^3)']\n",
        "    rightData_No = right_hemisphere.loc[right_condition_N, 'density (cells/mm^3)']\n",
        "    axes[i, 1].scatter(xS, rightData_Sep)\n",
        "    axes[i, 1].scatter(xN, rightData_No)\n",
        "    axes[i, 1].set_title(str(acronymR))\n",
        "    axes[i, 1].set_xticks([0, 1])\n",
        "    axes[i, 1].set_xticklabels(['sep', 'no'])\n",
        "\n",
        "    # Average of left and right hemispheres\n",
        "    avg_densitySep = (leftData_Sep.values + rightData_Sep.values) / 2\n",
        "    avg_densityNo = (leftData_No.values + rightData_No.values) / 2\n",
        "\n",
        "    # Plot this average\n",
        "    axes[i, 2].scatter(xS, avg_densitySep)\n",
        "    axes[i, 2].scatter(xN, avg_densityNo)\n",
        "    axes[i, 2].set_title(\"Average\")\n",
        "    axes[i, 2].set_xticks([0, 1])\n",
        "    axes[i, 2].set_xticklabels(['sep', 'no'])\n",
        "\n",
        "# plt.show()\n",
        "plt.savefig(PATH + 'density_plots.pdf')\n",
        "plt.close()"
      ],
      "metadata": {
        "id": "UQyCXEEH_IqR"
      },
      "execution_count": 5,
      "outputs": []
    },
    {
      "cell_type": "code",
      "source": [
        "#GENERATE OUTPUT FILE CONTAINING STATS FOR ALL REGIONS\n",
        "\n",
        "#Specify future columns of stat output dataframe\n",
        "left_pval = []\n",
        "left_ac = []\n",
        "right_pval = []\n",
        "right_ac = []\n",
        "avg_pval = []\n",
        "avg = []\n",
        "\n",
        "\n",
        "#Run t tests on subsets\n",
        "for i, (acronymL, acronymR) in enumerate(zip(final_acronymsL, final_acronymsR)):\n",
        "    left_condition_S = (left_hemisphere['acronym'] == acronymL) & (left_hemisphere['Condition'] == 'S')\n",
        "    left_condition_N = (left_hemisphere['acronym'] == acronymL) & (left_hemisphere['Condition'] == 'n')\n",
        "    right_condition_S = (right_hemisphere['acronym'] == acronymR) & (right_hemisphere['Condition'] == 'S')\n",
        "    right_condition_N = (right_hemisphere['acronym'] == acronymR) & (right_hemisphere['Condition'] == 'n')\n",
        "\n",
        "    # Left hemisphere, both conditions\n",
        "    leftData_Sep = left_hemisphere.loc[left_condition_S, 'density (cells/mm^3)']  #Obtain Sep, left hemisphere dataframe's density\n",
        "    leftData_No = left_hemisphere.loc[left_condition_N, 'density (cells/mm^3)']  #Obtain NoSep, left hemisphere dataframe's density\n",
        "    t_stat_left, p_val_left = stats.ttest_ind(leftData_Sep,leftData_No,equal_var=True) #stat test\n",
        "    left_pval.append(round(p_val_left,4)) #append result to p_val_left column\n",
        "    left_ac.append(str(acronymL))\n",
        "\n",
        "    # Right hemisphere, both conditions\n",
        "    rightData_Sep = right_hemisphere.loc[right_condition_S, 'density (cells/mm^3)']  #Obtain Sep, right hemisphere dataframe's density\n",
        "    rightData_No = right_hemisphere.loc[right_condition_N, 'density (cells/mm^3)'] #Obtain NoSep, right hemisphere dataframe's density\n",
        "    t_stat_right, p_val_right = stats.ttest_ind(rightData_Sep,rightData_No,equal_var=True) #stat test\n",
        "    right_pval.append(round(p_val_right,4)) #appendresult to p_val_right column\n",
        "    right_ac.append(str(acronymR))\n",
        "\n",
        "    # Average of left and right hemispheres\n",
        "    avg_densitySep = (leftData_Sep.values + rightData_Sep.values) / 2 #Obtain Sep, average density between hemispheres\n",
        "    avg_densityNo = (leftData_No.values + rightData_No.values) / 2 #Obtain NoSep, average density between hemispheres\n",
        "    t_stat, p_val = stats.ttest_ind(avg_densitySep,avg_densityNo,equal_var=True) #stat test\n",
        "    avg_pval.append(round(p_val,4))\n",
        "    avg.append(\"Average\")\n",
        "\n",
        "#It will also be helpful to have full names\n",
        "dictionary = {key: value for key, value in zip(left_hemisphere['acronym'], left_hemisphere['name'])} #making dictionary to retrieve full name info\n",
        "names = []\n",
        "for z in range(0,len(left_ac)):\n",
        "  names.append(dictionary[str(left_ac[z])])\n",
        "names = [' '.join(entry.split()[1:]) for entry in names] #get rid of 'left'\n",
        "\n",
        "\n",
        "\n",
        "#Make summary dataframe, ranked by statistical significance\n",
        "pVals = pd.DataFrame({'pVal-L':left_pval,'acronym-L':left_ac,'pVal-R':right_pval,'acronym-R':right_ac,'pVal-T':avg_pval,'Whole':avg,'Names':names})\n",
        "pVals_sorted = pVals.sort_values(by='pVal-T')\n",
        "\n",
        "#Save to path\n",
        "# Initialize the PDF pages\n",
        "matplotlib.use('Agg') # prevent preview of plot from appearing here\n",
        "with PdfPages(PATH + 'stats.pdf') as pdf:\n",
        "    # Create a new page\n",
        "    fig, ax = plt.subplots(figsize=(14, 20))\n",
        "\n",
        "    # Set up table properties\n",
        "    table = ax.table(cellText=pVals_sorted.values, colLabels=pVals_sorted.columns, cellLoc='center', loc='center')\n",
        "    table.auto_set_font_size(False)\n",
        "    table.set_fontsize(12)\n",
        "    table.scale(1.2, 1.2)\n",
        "\n",
        "    # Remove axis\n",
        "    ax.axis('off')\n",
        "\n",
        "    # Auto adjust the column widths\n",
        "    table.auto_set_column_width(col=list(range(len(pVals_sorted.columns))))\n",
        "\n",
        "    # Add the table to the PDF page\n",
        "    pdf.savefig(fig, bbox_inches='tight')\n"
      ],
      "metadata": {
        "id": "iN5egwKUY0o3"
      },
      "execution_count": 8,
      "outputs": []
    },
    {
      "cell_type": "code",
      "source": [
        "# Create dictionary from columns\n",
        "dictionary = {key: value for key, value in zip(left_hemisphere['acronym'], left_hemisphere['name'])}\n",
        "print(dictionary)"
      ],
      "metadata": {
        "colab": {
          "base_uri": "https://localhost:8080/"
        },
        "id": "23lzi81HdRc6",
        "outputId": "74f8bf31-1413-446d-8c65-22b7ddae2c93"
      },
      "execution_count": 14,
      "outputs": [
        {
          "output_type": "stream",
          "name": "stdout",
          "text": [
            "{'root-L': 'left root', 'grey-L': 'left Basic cell groups and regions', 'CH-L': 'left Cerebrum', 'CTX-L': 'left Cerebral cortex', 'CTXpl-L': 'left Cortical plate', 'Isocortex-L': 'left Isocortex', 'FRP-L': 'left Frontal pole, cerebral cortex', 'FRP1-L': 'left Frontal pole, layer 1', 'FRP2/3-L': 'left Frontal pole, layer 2/3', 'FRP5-L': 'left Frontal pole, layer 5', 'FRP6a-L': 'left Frontal pole, layer 6a', 'FRP6b-L': 'left Frontal pole, layer 6b', 'MO-L': 'left Somatomotor areas', 'MOp-L': 'left Primary motor area', 'MOp1-L': 'left Primary motor area, Layer 1', 'MOp2/3-L': 'left Primary motor area, Layer 2/3', 'MOp5-L': 'left Primary motor area, Layer 5', 'MOp6a-L': 'left Primary motor area, Layer 6a', 'MOp6b-L': 'left Primary motor area, Layer 6b', 'MOs-L': 'left Secondary motor area', 'MOs1-L': 'left Secondary motor area, layer 1', 'MOs2/3-L': 'left Secondary motor area, layer 2/3', 'MOs5-L': 'left Secondary motor area, layer 5', 'MOs6a-L': 'left Secondary motor area, layer 6a', 'MOs6b-L': 'left Secondary motor area, layer 6b', 'SS-L': 'left Somatosensory areas', 'SSp-L': 'left Primary somatosensory area', 'SSp-n-L': 'left Primary somatosensory area, nose', 'SSp-n1-L': 'left Primary somatosensory area, nose, layer 1', 'SSp-n2/3-L': 'left Primary somatosensory area, nose, layer 2/3', 'SSp-n4-L': 'left Primary somatosensory area, nose, layer 4', 'SSp-n5-L': 'left Primary somatosensory area, nose, layer 5', 'SSp-n6a-L': 'left Primary somatosensory area, nose, layer 6a', 'SSp-n6b-L': 'left Primary somatosensory area, nose, layer 6b', 'SSp-bfd-L': 'left Primary somatosensory area, barrel field', 'SSp-bfd1-L': 'left Primary somatosensory area, barrel field, layer 1', 'SSp-bfd2/3-L': 'left Primary somatosensory area, barrel field, layer 2/3', 'SSp-bfd4-L': 'left Primary somatosensory area, barrel field, layer 4', 'SSp-bfd5-L': 'left Primary somatosensory area, barrel field, layer 5', 'SSp-bfd6a-L': 'left Primary somatosensory area, barrel field, layer 6a', 'SSp-bfd6b-L': 'left Primary somatosensory area, barrel field, layer 6b', 'SSp-ll-L': 'left Primary somatosensory area, lower limb', 'SSp-ll1-L': 'left Primary somatosensory area, lower limb, layer 1', 'SSp-ll2/3-L': 'left Primary somatosensory area, lower limb, layer 2/3', 'SSp-ll4-L': 'left Primary somatosensory area, lower limb, layer 4', 'SSp-ll5-L': 'left Primary somatosensory area, lower limb, layer 5', 'SSp-ll6a-L': 'left Primary somatosensory area, lower limb, layer 6a', 'SSp-ll6b-L': 'left Primary somatosensory area, lower limb, layer 6b', 'SSp-m-L': 'left Primary somatosensory area, mouth', 'SSp-m1-L': 'left Primary somatosensory area, mouth, layer 1', 'SSp-m2/3-L': 'left Primary somatosensory area, mouth, layer 2/3', 'SSp-m4-L': 'left Primary somatosensory area, mouth, layer 4', 'SSp-m5-L': 'left Primary somatosensory area, mouth, layer 5', 'SSp-m6a-L': 'left Primary somatosensory area, mouth, layer 6a', 'SSp-m6b-L': 'left Primary somatosensory area, mouth, layer 6b', 'SSp-ul-L': 'left Primary somatosensory area, upper limb', 'SSp-ul1-L': 'left Primary somatosensory area, upper limb, layer 1', 'SSp-ul2/3-L': 'left Primary somatosensory area, upper limb, layer 2/3', 'SSp-ul4-L': 'left Primary somatosensory area, upper limb, layer 4', 'SSp-ul5-L': 'left Primary somatosensory area, upper limb, layer 5', 'SSp-ul6a-L': 'left Primary somatosensory area, upper limb, layer 6a', 'SSp-ul6b-L': 'left Primary somatosensory area, upper limb, layer 6b', 'SSp-tr-L': 'left Primary somatosensory area, trunk', 'SSp-tr1-L': 'left Primary somatosensory area, trunk, layer 1', 'SSp-tr2/3-L': 'left Primary somatosensory area, trunk, layer 2/3', 'SSp-tr4-L': 'left Primary somatosensory area, trunk, layer 4', 'SSp-tr5-L': 'left Primary somatosensory area, trunk, layer 5', 'SSp-tr6a-L': 'left Primary somatosensory area, trunk, layer 6a', 'SSp-tr6b-L': 'left Primary somatosensory area, trunk, layer 6b', 'SSp-un-L': 'left Primary somatosensory area, unassigned', 'SSp-un1-L': 'left Primary somatosensory area, unassigned, layer 1', 'SSp-un2/3-L': 'left Primary somatosensory area, unassigned, layer 2/3', 'SSp-un4-L': 'left Primary somatosensory area, unassigned, layer 4', 'SSp-un5-L': 'left Primary somatosensory area, unassigned, layer 5', 'SSp-un6a-L': 'left Primary somatosensory area, unassigned, layer 6a', 'SSp-un6b-L': 'left Primary somatosensory area, unassigned, layer 6b', 'SSs-L': 'left Supplemental somatosensory area', 'SSs1-L': 'left Supplemental somatosensory area, layer 1', 'SSs2/3-L': 'left Supplemental somatosensory area, layer 2/3', 'SSs4-L': 'left Supplemental somatosensory area, layer 4', 'SSs5-L': 'left Supplemental somatosensory area, layer 5', 'SSs6a-L': 'left Supplemental somatosensory area, layer 6a', 'SSs6b-L': 'left Supplemental somatosensory area, layer 6b', 'GU-L': 'left Gustatory areas', 'GU1-L': 'left Gustatory areas, layer 1', 'GU2/3-L': 'left Gustatory areas, layer 2/3', 'GU4-L': 'left Gustatory areas, layer 4', 'GU5-L': 'left Gustatory areas, layer 5', 'GU6a-L': 'left Gustatory areas, layer 6a', 'GU6b-L': 'left Gustatory areas, layer 6b', 'VISC-L': 'left Visceral area', 'VISC1-L': 'left Visceral area, layer 1', 'VISC2/3-L': 'left Visceral area, layer 2/3', 'VISC4-L': 'left Visceral area, layer 4', 'VISC5-L': 'left Visceral area, layer 5', 'VISC6a-L': 'left Visceral area, layer 6a', 'VISC6b-L': 'left Visceral area, layer 6b', 'AUD-L': 'left Auditory areas', 'AUDd-L': 'left Dorsal auditory area', 'AUDd1-L': 'left Dorsal auditory area, layer 1', 'AUDd2/3-L': 'left Dorsal auditory area, layer 2/3', 'AUDd4-L': 'left Dorsal auditory area, layer 4', 'AUDd5-L': 'left Dorsal auditory area, layer 5', 'AUDd6a-L': 'left Dorsal auditory area, layer 6a', 'AUDd6b-L': 'left Dorsal auditory area, layer 6b', 'AUDp-L': 'left Primary auditory area', 'AUDp1-L': 'left Primary auditory area, layer 1', 'AUDp2/3-L': 'left Primary auditory area, layer 2/3', 'AUDp4-L': 'left Primary auditory area, layer 4', 'AUDp5-L': 'left Primary auditory area, layer 5', 'AUDp6a-L': 'left Primary auditory area, layer 6a', 'AUDp6b-L': 'left Primary auditory area, layer 6b', 'AUDpo-L': 'left Posterior auditory area', 'AUDpo1-L': 'left Posterior auditory area, layer 1', 'AUDpo2/3-L': 'left Posterior auditory area, layer 2/3', 'AUDpo4-L': 'left Posterior auditory area, layer 4', 'AUDpo5-L': 'left Posterior auditory area, layer 5', 'AUDpo6a-L': 'left Posterior auditory area, layer 6a', 'AUDpo6b-L': 'left Posterior auditory area, layer 6b', 'AUDv-L': 'left Ventral auditory area', 'AUDv1-L': 'left Ventral auditory area, layer 1', 'AUDv2/3-L': 'left Ventral auditory area, layer 2/3', 'AUDv4-L': 'left Ventral auditory area, layer 4', 'AUDv5-L': 'left Ventral auditory area, layer 5', 'AUDv6a-L': 'left Ventral auditory area, layer 6a', 'AUDv6b-L': 'left Ventral auditory area, layer 6b', 'VIS-L': 'left Visual areas', 'VISal-L': 'left Anterolateral visual area', 'VISal1-L': 'left Anterolateral visual area, layer 1', 'VISal2/3-L': 'left Anterolateral visual area, layer 2/3', 'VISal4-L': 'left Anterolateral visual area, layer 4', 'VISal5-L': 'left Anterolateral visual area, layer 5', 'VISal6a-L': 'left Anterolateral visual area, layer 6a', 'VISal6b-L': 'left Anterolateral visual area, layer 6b', 'VISam-L': 'left Anteromedial visual area', 'VISam1-L': 'left Anteromedial visual area, layer 1', 'VISam2/3-L': 'left Anteromedial visual area, layer 2/3', 'VISam4-L': 'left Anteromedial visual area, layer 4', 'VISam5-L': 'left Anteromedial visual area, layer 5', 'VISam6a-L': 'left Anteromedial visual area, layer 6a', 'VISam6b-L': 'left Anteromedial visual area, layer 6b', 'VISl-L': 'left Lateral visual area', 'VISl1-L': 'left Lateral visual area, layer 1', 'VISl2/3-L': 'left Lateral visual area, layer 2/3', 'VISl4-L': 'left Lateral visual area, layer 4', 'VISl5-L': 'left Lateral visual area, layer 5', 'VISl6a-L': 'left Lateral visual area, layer 6a', 'VISl6b-L': 'left Lateral visual area, layer 6b', 'VISp-L': 'left Primary visual area', 'VISp1-L': 'left Primary visual area, layer 1', 'VISp2/3-L': 'left Primary visual area, layer 2/3', 'VISp4-L': 'left Primary visual area, layer 4', 'VISp5-L': 'left Primary visual area, layer 5', 'VISp6a-L': 'left Primary visual area, layer 6a', 'VISp6b-L': 'left Primary visual area, layer 6b', 'VISpl-L': 'left Posterolateral visual area', 'VISpl1-L': 'left Posterolateral visual area, layer 1', 'VISpl2/3-L': 'left Posterolateral visual area, layer 2/3', 'VISpl4-L': 'left Posterolateral visual area, layer 4', 'VISpl5-L': 'left Posterolateral visual area, layer 5', 'VISpl6a-L': 'left Posterolateral visual area, layer 6a', 'VISpl6b-L': 'left Posterolateral visual area, layer 6b', 'VISpm-L': 'left posteromedial visual area', 'VISpm1-L': 'left posteromedial visual area, layer 1', 'VISpm2/3-L': 'left posteromedial visual area, layer 2/3', 'VISpm4-L': 'left posteromedial visual area, layer 4', 'VISpm5-L': 'left posteromedial visual area, layer 5', 'VISpm6a-L': 'left posteromedial visual area, layer 6a', 'VISpm6b-L': 'left posteromedial visual area, layer 6b', 'VISli-L': 'left Laterointermediate area', 'VISli1-L': 'left Laterointermediate area, layer 1', 'VISli2/3-L': 'left Laterointermediate area, layer 2/3', 'VISli4-L': 'left Laterointermediate area, layer 4', 'VISli5-L': 'left Laterointermediate area, layer 5', 'VISli6a-L': 'left Laterointermediate area, layer 6a', 'VISli6b-L': 'left Laterointermediate area, layer 6b', 'VISpor-L': 'left Postrhinal area', 'VISpor1-L': 'left Postrhinal area, layer 1', 'VISpor2/3-L': 'left Postrhinal area, layer 2/3', 'VISpor4-L': 'left Postrhinal area, layer 4', 'VISpor5-L': 'left Postrhinal area, layer 5', 'VISpor6a-L': 'left Postrhinal area, layer 6a', 'VISpor6b-L': 'left Postrhinal area, layer 6b', 'ACA-L': 'left Anterior cingulate area', 'ACAd-L': 'left Anterior cingulate area, dorsal part', 'ACAd1-L': 'left Anterior cingulate area, dorsal part, layer 1', 'ACAd2/3-L': 'left Anterior cingulate area, dorsal part, layer 2/3', 'ACAd5-L': 'left Anterior cingulate area, dorsal part, layer 5', 'ACAd6a-L': 'left Anterior cingulate area, dorsal part, layer 6a', 'ACAd6b-L': 'left Anterior cingulate area, dorsal part, layer 6b', 'ACAv-L': 'left Anterior cingulate area, ventral part', 'ACAv1-L': 'left Anterior cingulate area, ventral part, layer 1', 'ACAv2/3-L': 'left Anterior cingulate area, ventral part, layer 2/3', 'ACAv5-L': 'left Anterior cingulate area, ventral part, layer 5', 'ACAv6a-L': 'left Anterior cingulate area, ventral part, 6a', 'ACAv6b-L': 'left Anterior cingulate area, ventral part, 6b', 'PL-L': 'left Prelimbic area', 'PL1-L': 'left Prelimbic area, layer 1', 'PL2/3-L': 'left Prelimbic area, layer 2/3', 'PL5-L': 'left Prelimbic area, layer 5', 'PL6a-L': 'left Prelimbic area, layer 6a', 'PL6b-L': 'left Prelimbic area, layer 6b', 'ILA-L': 'left Infralimbic area', 'ILA1-L': 'left Infralimbic area, layer 1', 'ILA2/3-L': 'left Infralimbic area, layer 2/3', 'ILA5-L': 'left Infralimbic area, layer 5', 'ILA6a-L': 'left Infralimbic area, layer 6a', 'ILA6b-L': 'left Infralimbic area, layer 6b', 'ORB-L': 'left Orbital area', 'ORBl-L': 'left Orbital area, lateral part', 'ORBl1-L': 'left Orbital area, lateral part, layer 1', 'ORBl2/3-L': 'left Orbital area, lateral part, layer 2/3', 'ORBl5-L': 'left Orbital area, lateral part, layer 5', 'ORBl6a-L': 'left Orbital area, lateral part, layer 6a', 'ORBl6b-L': 'left Orbital area, lateral part, layer 6b', 'ORBm-L': 'left Orbital area, medial part', 'ORBm1-L': 'left Orbital area, medial part, layer 1', 'ORBm2/3-L': 'left Orbital area, medial part, layer 2/3', 'ORBm5-L': 'left Orbital area, medial part, layer 5', 'ORBm6a-L': 'left Orbital area, medial part, layer 6a', 'ORBm6b-L': 'left Orbital area, medial part, layer 6b', 'ORBvl-L': 'left Orbital area, ventrolateral part', 'ORBvl1-L': 'left Orbital area, ventrolateral part, layer 1', 'ORBvl2/3-L': 'left Orbital area, ventrolateral part, layer 2/3', 'ORBvl5-L': 'left Orbital area, ventrolateral part, layer 5', 'ORBvl6a-L': 'left Orbital area, ventrolateral part, layer 6a', 'ORBvl6b-L': 'left Orbital area, ventrolateral part, layer 6b', 'AI-L': 'left Agranular insular area', 'AId-L': 'left Agranular insular area, dorsal part', 'AId1-L': 'left Agranular insular area, dorsal part, layer 1', 'AId2/3-L': 'left Agranular insular area, dorsal part, layer 2/3', 'AId5-L': 'left Agranular insular area, dorsal part, layer 5', 'AId6a-L': 'left Agranular insular area, dorsal part, layer 6a', 'AId6b-L': 'left Agranular insular area, dorsal part, layer 6b', 'AIp-L': 'left Agranular insular area, posterior part', 'AIp1-L': 'left Agranular insular area, posterior part, layer 1', 'AIp2/3-L': 'left Agranular insular area, posterior part, layer 2/3', 'AIp5-L': 'left Agranular insular area, posterior part, layer 5', 'AIp6a-L': 'left Agranular insular area, posterior part, layer 6a', 'AIp6b-L': 'left Agranular insular area, posterior part, layer 6b', 'AIv-L': 'left Agranular insular area, ventral part', 'AIv1-L': 'left Agranular insular area, ventral part, layer 1', 'AIv2/3-L': 'left Agranular insular area, ventral part, layer 2/3', 'AIv5-L': 'left Agranular insular area, ventral part, layer 5', 'AIv6a-L': 'left Agranular insular area, ventral part, layer 6a', 'AIv6b-L': 'left Agranular insular area, ventral part, layer 6b', 'RSP-L': 'left Retrosplenial area', 'RSPagl-L': 'left Retrosplenial area, lateral agranular part', 'RSPagl1-L': 'left Retrosplenial area, lateral agranular part, layer 1', 'RSPagl2/3-L': 'left Retrosplenial area, lateral agranular part, layer 2/3', 'RSPagl5-L': 'left Retrosplenial area, lateral agranular part, layer 5', 'RSPagl6a-L': 'left Retrosplenial area, lateral agranular part, layer 6a', 'RSPagl6b-L': 'left Retrosplenial area, lateral agranular part, layer 6b', 'RSPd-L': 'left Retrosplenial area, dorsal part', 'RSPd1-L': 'left Retrosplenial area, dorsal part, layer 1', 'RSPd2/3-L': 'left Retrosplenial area, dorsal part, layer 2/3', 'RSPd5-L': 'left Retrosplenial area, dorsal part, layer 5', 'RSPd6a-L': 'left Retrosplenial area, dorsal part, layer 6a', 'RSPd6b-L': 'left Retrosplenial area, dorsal part, layer 6b', 'RSPv-L': 'left Retrosplenial area, ventral part', 'RSPv1-L': 'left Retrosplenial area, ventral part, layer 1', 'RSPv2/3-L': 'left Retrosplenial area, ventral part, layer 2/3', 'RSPv5-L': 'left Retrosplenial area, ventral part, layer 5', 'RSPv6a-L': 'left Retrosplenial area, ventral part, layer 6a', 'RSPv6b-L': 'left Retrosplenial area, ventral part, layer 6b', 'PTLp-L': 'left Posterior parietal association areas', 'VISa-L': 'left Anterior area', 'VISa1-L': 'left Anterior area, layer 1', 'VISa2/3-L': 'left Anterior area, layer 2/3', 'VISa4-L': 'left Anterior area, layer 4', 'VISa5-L': 'left Anterior area, layer 5', 'VISa6a-L': 'left Anterior area, layer 6a', 'VISa6b-L': 'left Anterior area, layer 6b', 'VISrl-L': 'left Rostrolateral visual area', 'VISrl1-L': 'left Rostrolateral area, layer 1', 'VISrl2/3-L': 'left Rostrolateral area, layer 2/3', 'VISrl4-L': 'left Rostrolateral area, layer 4', 'VISrl5-L': 'left Rostrolateral area, layer 5', 'VISrl6a-L': 'left Rostrolateral area, layer 6a', 'VISrl6b-L': 'left Rostrolateral area, layer 6b', 'TEa-L': 'left Temporal association areas', 'TEa1-L': 'left Temporal association areas, layer 1', 'TEa2/3-L': 'left Temporal association areas, layer 2/3', 'TEa4-L': 'left Temporal association areas, layer 4', 'TEa5-L': 'left Temporal association areas, layer 5', 'TEa6a-L': 'left Temporal association areas, layer 6a', 'TEa6b-L': 'left Temporal association areas, layer 6b', 'PERI-L': 'left Perirhinal area', 'PERI1-L': 'left Perirhinal area, layer 1', 'PERI2/3-L': 'left Perirhinal area, layer 2/3', 'PERI5-L': 'left Perirhinal area, layer 5', 'PERI6a-L': 'left Perirhinal area, layer 6a', 'PERI6b-L': 'left Perirhinal area, layer 6b', 'ECT-L': 'left Ectorhinal area', 'ECT1-L': 'left Ectorhinal area/Layer 1', 'ECT2/3-L': 'left Ectorhinal area/Layer 2/3', 'ECT5-L': 'left Ectorhinal area/Layer 5', 'ECT6a-L': 'left Ectorhinal area/Layer 6a', 'ECT6b-L': 'left Ectorhinal area/Layer 6b', 'OLF-L': 'left Olfactory areas', 'MOB-L': 'left Main olfactory bulb', 'AOB-L': 'left Accessory olfactory bulb', 'AOBgl-L': 'left Accessory olfactory bulb, glomerular layer', 'AOBgr-L': 'left Accessory olfactory bulb, granular layer', 'AOBmi-L': 'left Accessory olfactory bulb, mitral layer', 'AON-L': 'left Anterior olfactory nucleus', 'TT-L': 'left Taenia tecta', 'TTd-L': 'left Taenia tecta, dorsal part', 'TTv-L': 'left Taenia tecta, ventral part', 'DP-L': 'left Dorsal peduncular area', 'PIR-L': 'left Piriform area', 'NLOT-L': 'left Nucleus of the lateral olfactory tract', 'NLOT1-L': 'left Nucleus of the lateral olfactory tract, molecular layer', 'NLOT2-L': 'left Nucleus of the lateral olfactory tract, pyramidal layer', 'NLOT3-L': 'left Nucleus of the lateral olfactory tract, layer 3', 'COA-L': 'left Cortical amygdalar area', 'COAa-L': 'left Cortical amygdalar area, anterior part', 'COAp-L': 'left Cortical amygdalar area, posterior part', 'COApl-L': 'left Cortical amygdalar area, posterior part, lateral zone', 'COApm-L': 'left Cortical amygdalar area, posterior part, medial zone', 'PAA-L': 'left Piriform-amygdalar area', 'TR-L': 'left Postpiriform transition area', 'HPF-L': 'left Hippocampal formation', 'HIP-L': 'left Hippocampal region', 'CA-L': \"left Ammon's horn\", 'CA1-L': 'left Field CA1', 'CA2-L': 'left Field CA2', 'CA3-L': 'left Field CA3', 'DG-L': 'left Dentate gyrus', 'DG-mo-L': 'left Dentate gyrus, molecular layer', 'DG-po-L': 'left Dentate gyrus, polymorph layer', 'DG-sg-L': 'left Dentate gyrus, granule cell layer', 'FC-L': 'left Fasciola cinerea', 'IG-L': 'left Induseum griseum', 'RHP-L': 'left Retrohippocampal region', 'ENT-L': 'left Entorhinal area', 'ENTl-L': 'left Entorhinal area, lateral part', 'ENTl1-L': 'left Entorhinal area, lateral part, layer 1', 'ENTl2-L': 'left Entorhinal area, lateral part, layer 2', 'ENTl3-L': 'left Entorhinal area, lateral part, layer 3', 'ENTl5-L': 'left Entorhinal area, lateral part, layer 5', 'ENTl6a-L': 'left Entorhinal area, lateral part, layer 6a', 'ENTm-L': 'left Entorhinal area, medial part, dorsal zone', 'ENTm1-L': 'left Entorhinal area, medial part, dorsal zone, layer 1', 'ENTm2-L': 'left Entorhinal area, medial part, dorsal zone, layer 2', 'ENTm3-L': 'left Entorhinal area, medial part, dorsal zone, layer 3', 'ENTm5-L': 'left Entorhinal area, medial part, dorsal zone, layer 5', 'ENTm6-L': 'left Entorhinal area, medial part, dorsal zone, layer 6', 'PAR-L': 'left Parasubiculum', 'POST-L': 'left Postsubiculum', 'PRE-L': 'left Presubiculum', 'SUB-L': 'left Subiculum', 'ProS-L': 'left Prosubiculum', 'HATA-L': 'left Hippocampo-amygdalar transition area', 'APr-L': 'left Area prostriata', 'CTXsp-L': 'left Cortical subplate', 'CLA-L': 'left Claustrum', 'EP-L': 'left Endopiriform nucleus', 'EPd-L': 'left Endopiriform nucleus, dorsal part', 'EPv-L': 'left Endopiriform nucleus, ventral part', 'LA-L': 'left Lateral amygdalar nucleus', 'BLA-L': 'left Basolateral amygdalar nucleus', 'BLAa-L': 'left Basolateral amygdalar nucleus, anterior part', 'BLAp-L': 'left Basolateral amygdalar nucleus, posterior part', 'BLAv-L': 'left Basolateral amygdalar nucleus, ventral part', 'BMA-L': 'left Basomedial amygdalar nucleus', 'BMAa-L': 'left Basomedial amygdalar nucleus, anterior part', 'BMAp-L': 'left Basomedial amygdalar nucleus, posterior part', 'PA-L': 'left Posterior amygdalar nucleus', 'CNU-L': 'left Cerebral nuclei', 'STR-L': 'left Striatum', 'STRd-L': 'left Striatum dorsal region', 'CP-L': 'left Caudoputamen', 'STRv-L': 'left Striatum ventral region', 'ACB-L': 'left Nucleus accumbens', 'FS-L': 'left Fundus of striatum', 'OT-L': 'left Olfactory tubercle', 'LSX-L': 'left Lateral septal complex', 'LS-L': 'left Lateral septal nucleus', 'LSc-L': 'left Lateral septal nucleus, caudal (caudodorsal) part', 'LSr-L': 'left Lateral septal nucleus, rostral (rostroventral) part', 'LSv-L': 'left Lateral septal nucleus, ventral part', 'SF-L': 'left Septofimbrial nucleus', 'SH-L': 'left Septohippocampal nucleus', 'sAMY-L': 'left Striatum-like amygdalar nuclei', 'AAA-L': 'left Anterior amygdalar area', 'BA-L': 'left Bed nucleus of the accessory olfactory tract', 'CEA-L': 'left Central amygdalar nucleus', 'CEAc-L': 'left Central amygdalar nucleus, capsular part', 'CEAl-L': 'left Central amygdalar nucleus, lateral part', 'CEAm-L': 'left Central amygdalar nucleus, medial part', 'IA-L': 'left Intercalated amygdalar nucleus', 'MEA-L': 'left Medial amygdalar nucleus', 'PAL-L': 'left Pallidum', 'PALd-L': 'left Pallidum, dorsal region', 'GPe-L': 'left Globus pallidus, external segment', 'GPi-L': 'left Globus pallidus, internal segment', 'PALv-L': 'left Pallidum, ventral region', 'SI-L': 'left Substantia innominata', 'MA-L': 'left Magnocellular nucleus', 'PALm-L': 'left Pallidum, medial region', 'MSC-L': 'left Medial septal complex', 'MS-L': 'left Medial septal nucleus', 'NDB-L': 'left Diagonal band nucleus', 'TRS-L': 'left Triangular nucleus of septum', 'PALc-L': 'left Pallidum, caudal region', 'BST-L': 'left Bed nuclei of the stria terminalis', 'BAC-L': 'left Bed nucleus of the anterior commissure', 'BS-L': 'left Brain stem', 'IB-L': 'left Interbrain', 'TH-L': 'left Thalamus', 'DORsm-L': 'left Thalamus, sensory-motor cortex related', 'VENT-L': 'left Ventral group of the dorsal thalamus', 'VAL-L': 'left Ventral anterior-lateral complex of the thalamus', 'VM-L': 'left Ventral medial nucleus of the thalamus', 'VP-L': 'left Ventral posterior complex of the thalamus', 'VPL-L': 'left Ventral posterolateral nucleus of the thalamus', 'VPLpc-L': 'left Ventral posterolateral nucleus of the thalamus, parvicellular part', 'VPM-L': 'left Ventral posteromedial nucleus of the thalamus', 'VPMpc-L': 'left Ventral posteromedial nucleus of the thalamus, parvicellular part', 'PoT-L': 'left Posterior triangular thalamic nucleus', 'SPF-L': 'left Subparafascicular nucleus', 'SPFm-L': 'left Subparafascicular nucleus, magnocellular part', 'SPFp-L': 'left Subparafascicular nucleus, parvicellular part', 'SPA-L': 'left Subparafascicular area', 'PP-L': 'left Peripeduncular nucleus', 'GENd-L': 'left Geniculate group, dorsal thalamus', 'MG-L': 'left Medial geniculate complex', 'MGd-L': 'left Medial geniculate complex, dorsal part', 'MGv-L': 'left Medial geniculate complex, ventral part', 'MGm-L': 'left Medial geniculate complex, medial part', 'LGd-L': 'left Dorsal part of the lateral geniculate complex', 'LGd-sh-L': 'left Dorsal part of the lateral geniculate complex, shell', 'LGd-co-L': 'left Dorsal part of the lateral geniculate complex, core', 'LGd-ip-L': 'left Dorsal part of the lateral geniculate complex, ipsilateral zone', 'DORpm-L': 'left Thalamus, polymodal association cortex related', 'LAT-L': 'left Lateral group of the dorsal thalamus', 'LP-L': 'left Lateral posterior nucleus of the thalamus', 'PO-L': 'left Posterior complex of the thalamus', 'POL-L': 'left Posterior limiting nucleus of the thalamus', 'SGN-L': 'left Suprageniculate nucleus', 'Eth-L': 'left Ethmoid nucleus of the thalamus', 'ATN-L': 'left Anterior group of the dorsal thalamus', 'AV-L': 'left Anteroventral nucleus of thalamus', 'AM-L': 'left Anteromedial nucleus', 'AMd-L': 'left Anteromedial nucleus, dorsal part', 'AMv-L': 'left Anteromedial nucleus, ventral part', 'AD-L': 'left Anterodorsal nucleus', 'IAM-L': 'left Interanteromedial nucleus of the thalamus', 'IAD-L': 'left Interanterodorsal nucleus of the thalamus', 'LD-L': 'left Lateral dorsal nucleus of thalamus', 'MED-L': 'left Medial group of the dorsal thalamus', 'IMD-L': 'left Intermediodorsal nucleus of the thalamus', 'MD-L': 'left Mediodorsal nucleus of thalamus', 'SMT-L': 'left Submedial nucleus of the thalamus', 'PR-L': 'left Perireunensis nucleus', 'MTN-L': 'left Midline group of the dorsal thalamus', 'PVT-L': 'left Paraventricular nucleus of the thalamus', 'PT-L': 'left Parataenial nucleus', 'RE-L': 'left Nucleus of reuniens', 'Xi-L': 'left Xiphoid thalamic nucleus', 'ILM-L': 'left Intralaminar nuclei of the dorsal thalamus', 'RH-L': 'left Rhomboid nucleus', 'CM-L': 'left Central medial nucleus of the thalamus', 'PCN-L': 'left Paracentral nucleus', 'CL-L': 'left Central lateral nucleus of the thalamus', 'PF-L': 'left Parafascicular nucleus', 'PIL-L': 'left Posterior intralaminar thalamic nucleus', 'RT-L': 'left Reticular nucleus of the thalamus', 'GENv-L': 'left Geniculate group, ventral thalamus', 'IGL-L': 'left Intergeniculate leaflet of the lateral geniculate complex', 'IntG-L': 'left Intermediate geniculate nucleus', 'LGv-L': 'left Ventral part of the lateral geniculate complex', 'SubG-L': 'left Subgeniculate nucleus', 'EPI-L': 'left Epithalamus', 'MH-L': 'left Medial habenula', 'LH-L': 'left Lateral habenula', 'HY-L': 'left Hypothalamus', 'PVZ-L': 'left Periventricular zone', 'SO-L': 'left Supraoptic nucleus', 'ASO-L': 'left Accessory supraoptic group', 'PVH-L': 'left Paraventricular hypothalamic nucleus', 'PVa-L': 'left Periventricular hypothalamic nucleus, anterior part', 'PVi-L': 'left Periventricular hypothalamic nucleus, intermediate part', 'ARH-L': 'left Arcuate hypothalamic nucleus', 'PVR-L': 'left Periventricular region', 'ADP-L': 'left Anterodorsal preoptic nucleus', 'AVP-L': 'left Anteroventral preoptic nucleus', 'AVPV-L': 'left Anteroventral periventricular nucleus', 'DMH-L': 'left Dorsomedial nucleus of the hypothalamus', 'MEPO-L': 'left Median preoptic nucleus', 'MPO-L': 'left Medial preoptic area', 'OV-L': 'left Vascular organ of the lamina terminalis', 'PD-L': 'left Posterodorsal preoptic nucleus', 'PS-L': 'left Parastrial nucleus', 'PVp-L': 'left Periventricular hypothalamic nucleus, posterior part', 'PVpo-L': 'left Periventricular hypothalamic nucleus, preoptic part', 'SBPV-L': 'left Subparaventricular zone', 'SCH-L': 'left Suprachiasmatic nucleus', 'SFO-L': 'left Subfornical organ', 'VMPO-L': 'left Ventromedial preoptic nucleus', 'VLPO-L': 'left Ventrolateral preoptic nucleus', 'MEZ-L': 'left Hypothalamic medial zone', 'AHN-L': 'left Anterior hypothalamic nucleus', 'MBO-L': 'left Mammillary body', 'LM-L': 'left Lateral mammillary nucleus', 'MM-L': 'left Medial mammillary nucleus', 'MMme-L': 'left Medial mammillary nucleus, median part', 'MMl-L': 'left Medial mammillary nucleus, lateral part', 'MMm-L': 'left Medial mammillary nucleus, medial part', 'MMp-L': 'left Medial mammillary nucleus, posterior part', 'MMd-L': 'left Medial mammillary nucleus, dorsal part', 'SUM-L': 'left Supramammillary nucleus', 'TM-L': 'left Tuberomammillary nucleus', 'TMd-L': 'left Tuberomammillary nucleus, dorsal part', 'TMv-L': 'left Tuberomammillary nucleus, ventral part', 'MPN-L': 'left Medial preoptic nucleus', 'PMd-L': 'left Dorsal premammillary nucleus', 'PMv-L': 'left Ventral premammillary nucleus', 'PVHd-L': 'left Paraventricular hypothalamic nucleus, descending division', 'VMH-L': 'left Ventromedial hypothalamic nucleus', 'PH-L': 'left Posterior hypothalamic nucleus', 'LZ-L': 'left Hypothalamic lateral zone', 'LHA-L': 'left Lateral hypothalamic area', 'LPO-L': 'left Lateral preoptic area', 'PST-L': 'left Preparasubthalamic nucleus', 'PSTN-L': 'left Parasubthalamic nucleus', 'PeF-L': 'left Perifornical nucleus', 'RCH-L': 'left Retrochiasmatic area', 'STN-L': 'left Subthalamic nucleus', 'TU-L': 'left Tuberal nucleus', 'ZI-L': 'left Zona incerta', 'FF-L': 'left Fields of Forel', 'ME-L': 'left Median eminence', 'MB-L': 'left Midbrain', 'MBsen-L': 'left Midbrain, sensory related', 'SCs-L': 'left Superior colliculus, sensory related', 'SCop-L': 'left Superior colliculus, optic layer', 'SCsg-L': 'left Superior colliculus, superficial gray layer', 'SCzo-L': 'left Superior colliculus, zonal layer', 'IC-L': 'left Inferior colliculus', 'ICc-L': 'left Inferior colliculus, central nucleus', 'ICd-L': 'left Inferior colliculus, dorsal nucleus', 'ICe-L': 'left Inferior colliculus, external nucleus', 'NB-L': 'left Nucleus of the brachium of the inferior colliculus', 'SAG-L': 'left Nucleus sagulum', 'PBG-L': 'left Parabigeminal nucleus', 'MEV-L': 'left Midbrain trigeminal nucleus', 'SCO-L': 'left Subcommissural organ', 'MBmot-L': 'left Midbrain, motor related', 'SNr-L': 'left Substantia nigra, reticular part', 'VTA-L': 'left Ventral tegmental area', 'PN-L': 'left Paranigral nucleus', 'RR-L': 'left Midbrain reticular nucleus, retrorubral area', 'MRN-L': 'left Midbrain reticular nucleus', 'SCm-L': 'left Superior colliculus, motor related', 'SCdg-L': 'left Superior colliculus, motor related, deep gray layer', 'SCdw-L': 'left Superior colliculus, motor related, deep white layer', 'SCiw-L': 'left Superior colliculus, motor related, intermediate white layer', 'SCig-L': 'left Superior colliculus, motor related, intermediate gray layer', 'PAG-L': 'left Periaqueductal gray', 'PRC-L': 'left Precommissural nucleus', 'INC-L': 'left Interstitial nucleus of Cajal', 'ND-L': 'left Nucleus of Darkschewitsch', 'Su3-L': 'left Supraoculomotor periaqueductal gray', 'PRT-L': 'left Pretectal region', 'APN-L': 'left Anterior pretectal nucleus', 'MPT-L': 'left Medial pretectal area', 'NOT-L': 'left Nucleus of the optic tract', 'NPC-L': 'left Nucleus of the posterior commissure', 'OP-L': 'left Olivary pretectal nucleus', 'PPT-L': 'left Posterior pretectal nucleus', 'RPF-L': 'left Retroparafascicular nucleus', 'CUN-L': 'left Cuneiform nucleus', 'RN-L': 'left Red nucleus', 'III-L': 'left Oculomotor nucleus', 'MA3-L': 'left Medial accesory oculomotor nucleus', 'EW-L': 'left Edinger-Westphal nucleus', 'IV-L': 'left Trochlear nucleus', 'Pa4-L': 'left Paratrochlear nucleus', 'VTN-L': 'left Ventral tegmental nucleus', 'AT-L': 'left Anterior tegmental nucleus', 'LT-L': 'left Lateral terminal nucleus of the accessory optic tract', 'DT-L': 'left Dorsal terminal nucleus of the accessory optic tract', 'MT-L': 'left Medial terminal nucleus of the accessory optic tract', 'MBsta-L': 'left Midbrain, behavioral state related', 'SNc-L': 'left Substantia nigra, compact part', 'PPN-L': 'left Pedunculopontine nucleus', 'RAmb-L': 'left Midbrain raphe nuclei', 'IF-L': 'left Interfascicular nucleus raphe', 'IPN-L': 'left Interpeduncular nucleus', 'IPR-L': 'left Interpeduncular nucleus, rostral', 'IPC-L': 'left Interpeduncular nucleus, caudal', 'IPA-L': 'left Interpeduncular nucleus, apical', 'IPL-L': 'left Interpeduncular nucleus, lateral', 'IPI-L': 'left Interpeduncular nucleus, intermediate', 'IPDM-L': 'left Interpeduncular nucleus, dorsomedial', 'IPDL-L': 'left Interpeduncular nucleus, dorsolateral', 'IPRL-L': 'left Interpeduncular nucleus, rostrolateral', 'RL-L': 'left Rostral linear nucleus raphe', 'CLI-L': 'left Central linear nucleus raphe', 'DR-L': 'left Dorsal nucleus raphe', 'HB-L': 'left Hindbrain', 'P-L': 'left Pons', 'P-sen-L': 'left Pons, sensory related', 'NLL-L': 'left Nucleus of the lateral lemniscus', 'PSV-L': 'left Principal sensory nucleus of the trigeminal', 'PB-L': 'left Parabrachial nucleus', 'KF-L': 'left Koelliker-Fuse subnucleus', 'SOC-L': 'left Superior olivary complex', 'POR-L': 'left Superior olivary complex, periolivary region', 'SOCm-L': 'left Superior olivary complex, medial part', 'SOCl-L': 'left Superior olivary complex, lateral part', 'P-mot-L': 'left Pons, motor related', 'B-L': \"left Barrington's nucleus\", 'DTN-L': 'left Dorsal tegmental nucleus', 'PDTg-L': 'left Posterodorsal tegmental nucleus', 'PCG-L': 'left Pontine central gray', 'PG-L': 'left Pontine gray', 'PRNc-L': 'left Pontine reticular nucleus, caudal part', 'SG-L': 'left Supragenual nucleus', 'SUT-L': 'left Supratrigeminal nucleus', 'TRN-L': 'left Tegmental reticular nucleus', 'V-L': 'left Motor nucleus of trigeminal', 'P5-L': 'left Peritrigeminal zone', 'Acs5-L': 'left Accessory trigeminal nucleus', 'PC5-L': 'left Parvicellular motor 5 nucleus', 'I5-L': 'left Intertrigeminal nucleus', 'P-sat-L': 'left Pons, behavioral state related', 'CS-L': 'left Superior central nucleus raphe', 'LC-L': 'left Locus ceruleus', 'LDT-L': 'left Laterodorsal tegmental nucleus', 'NI-L': 'left Nucleus incertus', 'PRNr-L': 'left Pontine reticular nucleus', 'RPO-L': 'left Nucleus raphe pontis', 'SLC-L': 'left Subceruleus nucleus', 'SLD-L': 'left Sublaterodorsal nucleus', 'MY-L': 'left Medulla', 'MY-sen-L': 'left Medulla, sensory related', 'AP-L': 'left Area postrema', 'CN-L': 'left Cochlear nuclei', 'DCO-L': 'left Dorsal cochlear nucleus', 'VCO-L': 'left Ventral cochlear nucleus', 'DCN-L': 'left Dorsal column nuclei', 'CU-L': 'left Cuneate nucleus', 'GR-L': 'left Gracile nucleus', 'ECU-L': 'left External cuneate nucleus', 'NTB-L': 'left Nucleus of the trapezoid body', 'NTS-L': 'left Nucleus of the solitary tract', 'SPVC-L': 'left Spinal nucleus of the trigeminal, caudal part', 'SPVI-L': 'left Spinal nucleus of the trigeminal, interpolar part', 'SPVO-L': 'left Spinal nucleus of the trigeminal, oral part', 'Pa5-L': 'left Paratrigeminal nucleus', 'MY-mot-L': 'left Medulla, motor related', 'VI-L': 'left Abducens nucleus', 'VII-L': 'left Facial motor nucleus', 'ACVII-L': 'left Accessory facial motor nucleus', 'AMB-L': 'left Nucleus ambiguus', 'AMBd-L': 'left Nucleus ambiguus, dorsal division', 'AMBv-L': 'left Nucleus ambiguus, ventral division', 'DMX-L': 'left Dorsal motor nucleus of the vagus nerve', 'GRN-L': 'left Gigantocellular reticular nucleus', 'ICB-L': 'left Infracerebellar nucleus', 'IO-L': 'left Inferior olivary complex', 'IRN-L': 'left Intermediate reticular nucleus', 'ISN-L': 'left Inferior salivatory nucleus', 'LIN-L': 'left Linear nucleus of the medulla', 'LRN-L': 'left Lateral reticular nucleus', 'LRNm-L': 'left Lateral reticular nucleus, magnocellular part', 'LRNp-L': 'left Lateral reticular nucleus, parvicellular part', 'MARN-L': 'left Magnocellular reticular nucleus', 'MDRN-L': 'left Medullary reticular nucleus', 'MDRNd-L': 'left Medullary reticular nucleus, dorsal part', 'MDRNv-L': 'left Medullary reticular nucleus, ventral part', 'PARN-L': 'left Parvicellular reticular nucleus', 'PAS-L': 'left Parasolitary nucleus', 'PGRN-L': 'left Paragigantocellular reticular nucleus', 'PGRNd-L': 'left Paragigantocellular reticular nucleus, dorsal part', 'PGRNl-L': 'left Paragigantocellular reticular nucleus, lateral part', 'PHY-L': 'left Perihypoglossal nuclei', 'NR-L': 'left Nucleus of Roller', 'PRP-L': 'left Nucleus prepositus', 'PPY-L': 'left Parapyramidal nucleus', 'VNC-L': 'left Vestibular nuclei', 'LAV-L': 'left Lateral vestibular nucleus', 'MV-L': 'left Medial vestibular nucleus', 'SPIV-L': 'left Spinal vestibular nucleus', 'SUV-L': 'left Superior vestibular nucleus', 'x-L': 'left Nucleus x', 'XII-L': 'left Hypoglossal nucleus', 'y-L': 'left Nucleus y', 'MY-sat-L': 'left Medulla, behavioral state related', 'RM-L': 'left Nucleus raphe magnus', 'RPA-L': 'left Nucleus raphe pallidus', 'RO-L': 'left Nucleus raphe obscurus', 'CB-L': 'left Cerebellum', 'CBX-L': 'left Cerebellar cortex', 'VERM-L': 'left Vermal regions', 'LING-L': 'left Lingula (I)', 'CENT-L': 'left Central lobule', 'CENT2-L': 'left Lobule II', 'CENT3-L': 'left Lobule III', 'CUL-L': 'left Culmen', 'CUL4, 5-L': 'left Lobules IV-V', 'DEC-L': 'left Declive (VI)', 'FOTU-L': 'left Folium-tuber vermis (VII)', 'PYR-L': 'left Pyramus (VIII)', 'UVU-L': 'left Uvula (IX)', 'NOD-L': 'left Nodulus (X)', 'HEM-L': 'left Hemispheric regions', 'SIM-L': 'left Simple lobule', 'AN-L': 'left Ansiform lobule', 'ANcr1-L': 'left Crus 1', 'ANcr2-L': 'left Crus 2', 'PRM-L': 'left Paramedian lobule', 'COPY-L': 'left Copula pyramidis', 'PFL-L': 'left Paraflocculus', 'FL-L': 'left Flocculus', 'CBN-L': 'left Cerebellar nuclei', 'FN-L': 'left Fastigial nucleus', 'IP-L': 'left Interposed nucleus', 'DN-L': 'left Dentate nucleus', 'VeCB-L': 'left Vestibulocerebellar nucleus', 'fiber tracts-L': 'left fiber tracts', 'cm-L': 'left cranial nerves', 'von-L': 'left vomeronasal nerve', 'In-L': 'left olfactory nerve', 'onl-L': 'left olfactory nerve layer of main olfactory bulb', 'lotg-L': 'left lateral olfactory tract, general', 'lot-L': 'left lateral olfactory tract, body', 'lotd-L': 'left dorsal limb', 'aco-L': 'left anterior commissure, olfactory limb', 'IIn-L': 'left optic nerve', 'bsc-L': 'left brachium of the superior colliculus', 'csc-L': 'left superior colliculus commissure', 'och-L': 'left optic chiasm', 'opt-L': 'left optic tract', 'IIIn-L': 'left oculomotor nerve', 'mlf-L': 'left medial longitudinal fascicle', 'pc-L': 'left posterior commissure', 'IVn-L': 'left trochlear nerve', 'Vn-L': 'left trigeminal nerve', 'moV-L': 'left motor root of the trigeminal nerve', 'sV-L': 'left sensory root of the trigeminal nerve', 'sptV-L': 'left spinal tract of the trigeminal nerve', 'VIIn-L': 'left facial nerve', 'gVIIn-L': 'left genu of the facial nerve', 'VIIIn-L': 'left vestibulocochlear nerve', 'vVIIIn-L': 'left vestibular nerve', 'cVIIIn-L': 'left cochlear nerve', 'tb-L': 'left trapezoid body', 'das-L': 'left dorsal acoustic stria', 'll-L': 'left lateral lemniscus', 'cic-L': 'left inferior colliculus commissure', 'bic-L': 'left brachium of the inferior colliculus', 'Xn-L': 'left vagus nerve', 'ts-L': 'left solitary tract', 'drt-L': 'left dorsal roots', 'cett-L': 'left cervicothalamic tract', 'dc-L': 'left dorsal column', 'cuf-L': 'left cuneate fascicle', 'ml-L': 'left medial lemniscus', 'cbf-L': 'left cerebellum related fiber tracts', 'cbc-L': 'left cerebellar commissure', 'cbp-L': 'left cerebellar peduncles', 'scp-L': 'left superior cerebelar peduncles', 'dscp-L': 'left superior cerebellar peduncle decussation', 'uf-L': 'left uncinate fascicle', 'sctv-L': 'left ventral spinocerebellar tract', 'mcp-L': 'left middle cerebellar peduncle', 'icp-L': 'left inferior cerebellar peduncle', 'sctd-L': 'left dorsal spinocerebellar tract', 'arb-L': 'left arbor vitae', 'scwm-L': 'left supra-callosal cerebral white matter', 'lfbs-L': 'left lateral forebrain bundle system', 'cc-L': 'left corpus callosum', 'fa-L': 'left corpus callosum, anterior forceps', 'ec-L': 'left external capsule', 'ee-L': 'left corpus callosum, extreme capsule', 'ccg-L': 'left genu of corpus callosum', 'fp-L': 'left corpus callosum, posterior forceps', 'ccb-L': 'left corpus callosum, body', 'ccs-L': 'left corpus callosum, splenium', 'cst-L': 'left corticospinal tract', 'int-L': 'left internal capsule', 'cpd-L': 'left cerebal peduncle', 'py-L': 'left pyramid', 'pyd-L': 'left pyramidal decussation', 'lfbst-L': 'left thalamus related', 'em-L': 'left external medullary lamina of the thalamus', 'or-L': 'left optic radiation', 'ar-L': 'left auditory radiation', 'eps-L': 'left extrapyramidal fiber systems', 'epsc-L': 'left cerebral nuclei related', 'nst-L': 'left nigrostriatal tract', 'tsp-L': 'left tectospinal pathway', 'dtd-L': 'left doral tegmental decussation', 'tspc-L': 'left crossed tectospinal pathway', 'rust-L': 'left rubrospinal tract', 'vtd-L': 'left ventral tegmental decussation', 'mfbs-L': 'left medial forebrain bundle system', 'mfbc-L': 'left cerebrum related', 'amc-L': 'left amygdalar capsule', 'act-L': 'left anterior commissure, temporal limb', 'cing-L': 'left cingulum bundle', 'fxs-L': 'left fornix system', 'alv-L': 'left alveus', 'df-L': 'left dorsal fornix', 'fi-L': 'left fimbria', 'fxpo-L': 'left postcommissural fornix', 'mct-L': 'left medial corticohypothalamic tract', 'fx-L': 'left columns of the fornix', 'hc-L': 'left hippocampal commissures', 'dhc-L': 'left dorsal hippocampal commissure', 'vhc-L': 'left ventral hippocampal commissure', 'st-L': 'left stria terminalis', 'stc-L': 'left commissural branch of stria terminalis', 'mfsbshy-L': 'left hypothalamus related', 'mfb-L': 'left medial forebrain bundle', 'sup-L': 'left supraoptic commissures', 'mfbsma-L': 'left mammillary related', 'pm-L': 'left principal mammillary tract', 'mtt-L': 'left mammillothalamic tract', 'mtg-L': 'left mammillotegmental tract', 'mp-L': 'left mammillary peduncle', 'mfbse-L': 'left epithalamus related', 'sm-L': 'left stria medullaris', 'fr-L': 'left fasciculus retroflexus', 'hbc-L': 'left habenular commissure', 'VS-L': 'left ventricular systems', 'VL-L': 'left lateral ventricle', 'SEZ-L': 'left subependymal zone', 'chpl-L': 'left choroid plexus', 'V3-L': 'left third ventricle', 'AQ-L': 'left cerebral aqueduct', 'V4-L': 'left fourth ventricle', 'V4r-L': 'left lateral recess', 'c-L': 'left central canal, spinal cord/medulla'}\n"
          ]
        }
      ]
    },
    {
      "cell_type": "code",
      "source": [
        "left_ac[1]"
      ],
      "metadata": {
        "colab": {
          "base_uri": "https://localhost:8080/",
          "height": 35
        },
        "id": "CEBHiEeEdYJh",
        "outputId": "6882800c-212f-4b3f-a7c8-1a480af16c44"
      },
      "execution_count": 17,
      "outputs": [
        {
          "output_type": "execute_result",
          "data": {
            "text/plain": [
              "'grey-L'"
            ],
            "application/vnd.google.colaboratory.intrinsic+json": {
              "type": "string"
            }
          },
          "metadata": {},
          "execution_count": 17
        }
      ]
    },
    {
      "cell_type": "code",
      "source": [
        "dictionary = {key: value for key, value in zip(left_hemisphere['acronym'], left_hemisphere['name'])} #making dictionary to retrieve full name info\n",
        "names = []\n",
        "for z in range(0,len(left_ac)):\n",
        "  names.append(dictionary[str(left_ac[z])])\n",
        "names = [' '.join(entry.split()[1:]) for entry in names] #get rid of 'left'"
      ],
      "metadata": {
        "id": "9lLRVL7Pet82"
      },
      "execution_count": 18,
      "outputs": []
    },
    {
      "cell_type": "code",
      "source": [
        "type(names)"
      ],
      "metadata": {
        "colab": {
          "base_uri": "https://localhost:8080/"
        },
        "id": "OniBJoESfuvc",
        "outputId": "0ae57ded-3cb1-460c-ec4e-eb5ed91edd0a"
      },
      "execution_count": 21,
      "outputs": [
        {
          "output_type": "execute_result",
          "data": {
            "text/plain": [
              "list"
            ]
          },
          "metadata": {},
          "execution_count": 21
        }
      ]
    },
    {
      "cell_type": "code",
      "source": [
        "len(names)"
      ],
      "metadata": {
        "colab": {
          "base_uri": "https://localhost:8080/"
        },
        "id": "4rEJiqcyfwD4",
        "outputId": "057cd196-c44a-4815-819d-53fdae7f99cf"
      },
      "execution_count": 22,
      "outputs": [
        {
          "output_type": "execute_result",
          "data": {
            "text/plain": [
              "796"
            ]
          },
          "metadata": {},
          "execution_count": 22
        }
      ]
    },
    {
      "cell_type": "code",
      "source": [
        "names = [' '.join(entry.split()[1:]) for entry in names]\n",
        "print(new_list)"
      ],
      "metadata": {
        "colab": {
          "base_uri": "https://localhost:8080/"
        },
        "id": "1aDbZl2wf70n",
        "outputId": "73673039-af8b-4b3e-e7da-1bac74d03aea"
      },
      "execution_count": 23,
      "outputs": [
        {
          "output_type": "stream",
          "name": "stdout",
          "text": [
            "['root', 'Basic cell groups and regions', 'Cerebrum', 'Cerebral cortex', 'Cortical plate', 'Isocortex', 'Frontal pole, cerebral cortex', 'Frontal pole, layer 1', 'Frontal pole, layer 2/3', 'Frontal pole, layer 5', 'Frontal pole, layer 6a', 'Frontal pole, layer 6b', 'Somatomotor areas', 'Primary motor area', 'Primary motor area, Layer 1', 'Primary motor area, Layer 2/3', 'Primary motor area, Layer 5', 'Primary motor area, Layer 6a', 'Primary motor area, Layer 6b', 'Secondary motor area', 'Secondary motor area, layer 1', 'Secondary motor area, layer 2/3', 'Secondary motor area, layer 5', 'Secondary motor area, layer 6a', 'Secondary motor area, layer 6b', 'Somatosensory areas', 'Primary somatosensory area', 'Primary somatosensory area, nose', 'Primary somatosensory area, nose, layer 1', 'Primary somatosensory area, nose, layer 2/3', 'Primary somatosensory area, nose, layer 4', 'Primary somatosensory area, nose, layer 5', 'Primary somatosensory area, nose, layer 6a', 'Primary somatosensory area, nose, layer 6b', 'Primary somatosensory area, barrel field', 'Primary somatosensory area, barrel field, layer 1', 'Primary somatosensory area, barrel field, layer 2/3', 'Primary somatosensory area, barrel field, layer 4', 'Primary somatosensory area, barrel field, layer 5', 'Primary somatosensory area, barrel field, layer 6a', 'Primary somatosensory area, barrel field, layer 6b', 'Primary somatosensory area, lower limb', 'Primary somatosensory area, lower limb, layer 1', 'Primary somatosensory area, lower limb, layer 2/3', 'Primary somatosensory area, lower limb, layer 4', 'Primary somatosensory area, lower limb, layer 5', 'Primary somatosensory area, lower limb, layer 6a', 'Primary somatosensory area, lower limb, layer 6b', 'Primary somatosensory area, mouth', 'Primary somatosensory area, mouth, layer 1', 'Primary somatosensory area, mouth, layer 2/3', 'Primary somatosensory area, mouth, layer 4', 'Primary somatosensory area, mouth, layer 5', 'Primary somatosensory area, mouth, layer 6a', 'Primary somatosensory area, mouth, layer 6b', 'Primary somatosensory area, upper limb', 'Primary somatosensory area, upper limb, layer 1', 'Primary somatosensory area, upper limb, layer 2/3', 'Primary somatosensory area, upper limb, layer 4', 'Primary somatosensory area, upper limb, layer 5', 'Primary somatosensory area, upper limb, layer 6a', 'Primary somatosensory area, upper limb, layer 6b', 'Primary somatosensory area, trunk', 'Primary somatosensory area, trunk, layer 1', 'Primary somatosensory area, trunk, layer 2/3', 'Primary somatosensory area, trunk, layer 4', 'Primary somatosensory area, trunk, layer 5', 'Primary somatosensory area, trunk, layer 6a', 'Primary somatosensory area, trunk, layer 6b', 'Primary somatosensory area, unassigned', 'Primary somatosensory area, unassigned, layer 1', 'Primary somatosensory area, unassigned, layer 2/3', 'Primary somatosensory area, unassigned, layer 4', 'Primary somatosensory area, unassigned, layer 5', 'Primary somatosensory area, unassigned, layer 6a', 'Primary somatosensory area, unassigned, layer 6b', 'Supplemental somatosensory area', 'Supplemental somatosensory area, layer 1', 'Supplemental somatosensory area, layer 2/3', 'Supplemental somatosensory area, layer 4', 'Supplemental somatosensory area, layer 5', 'Supplemental somatosensory area, layer 6a', 'Supplemental somatosensory area, layer 6b', 'Gustatory areas', 'Gustatory areas, layer 1', 'Gustatory areas, layer 2/3', 'Gustatory areas, layer 4', 'Gustatory areas, layer 5', 'Gustatory areas, layer 6a', 'Gustatory areas, layer 6b', 'Visceral area', 'Visceral area, layer 1', 'Visceral area, layer 2/3', 'Visceral area, layer 4', 'Visceral area, layer 5', 'Visceral area, layer 6a', 'Visceral area, layer 6b', 'Auditory areas', 'Dorsal auditory area', 'Dorsal auditory area, layer 1', 'Dorsal auditory area, layer 2/3', 'Dorsal auditory area, layer 4', 'Dorsal auditory area, layer 5', 'Dorsal auditory area, layer 6a', 'Dorsal auditory area, layer 6b', 'Primary auditory area', 'Primary auditory area, layer 1', 'Primary auditory area, layer 2/3', 'Primary auditory area, layer 4', 'Primary auditory area, layer 5', 'Primary auditory area, layer 6a', 'Primary auditory area, layer 6b', 'Posterior auditory area', 'Posterior auditory area, layer 1', 'Posterior auditory area, layer 2/3', 'Posterior auditory area, layer 4', 'Posterior auditory area, layer 5', 'Posterior auditory area, layer 6a', 'Posterior auditory area, layer 6b', 'Ventral auditory area', 'Ventral auditory area, layer 1', 'Ventral auditory area, layer 2/3', 'Ventral auditory area, layer 4', 'Ventral auditory area, layer 5', 'Ventral auditory area, layer 6a', 'Ventral auditory area, layer 6b', 'Visual areas', 'Anterolateral visual area', 'Anterolateral visual area, layer 1', 'Anterolateral visual area, layer 2/3', 'Anterolateral visual area, layer 4', 'Anterolateral visual area, layer 5', 'Anterolateral visual area, layer 6a', 'Anterolateral visual area, layer 6b', 'Anteromedial visual area', 'Anteromedial visual area, layer 1', 'Anteromedial visual area, layer 2/3', 'Anteromedial visual area, layer 4', 'Anteromedial visual area, layer 5', 'Anteromedial visual area, layer 6a', 'Anteromedial visual area, layer 6b', 'Lateral visual area', 'Lateral visual area, layer 1', 'Lateral visual area, layer 2/3', 'Lateral visual area, layer 4', 'Lateral visual area, layer 5', 'Lateral visual area, layer 6a', 'Lateral visual area, layer 6b', 'Primary visual area', 'Primary visual area, layer 1', 'Primary visual area, layer 2/3', 'Primary visual area, layer 4', 'Primary visual area, layer 5', 'Primary visual area, layer 6a', 'Primary visual area, layer 6b', 'Posterolateral visual area', 'Posterolateral visual area, layer 1', 'Posterolateral visual area, layer 2/3', 'Posterolateral visual area, layer 4', 'Posterolateral visual area, layer 5', 'Posterolateral visual area, layer 6a', 'Posterolateral visual area, layer 6b', 'posteromedial visual area', 'posteromedial visual area, layer 1', 'posteromedial visual area, layer 2/3', 'posteromedial visual area, layer 4', 'posteromedial visual area, layer 5', 'posteromedial visual area, layer 6a', 'posteromedial visual area, layer 6b', 'Laterointermediate area', 'Laterointermediate area, layer 1', 'Laterointermediate area, layer 2/3', 'Laterointermediate area, layer 4', 'Laterointermediate area, layer 5', 'Laterointermediate area, layer 6a', 'Laterointermediate area, layer 6b', 'Postrhinal area', 'Postrhinal area, layer 1', 'Postrhinal area, layer 2/3', 'Postrhinal area, layer 4', 'Postrhinal area, layer 5', 'Postrhinal area, layer 6a', 'Postrhinal area, layer 6b', 'Anterior cingulate area', 'Anterior cingulate area, dorsal part', 'Anterior cingulate area, dorsal part, layer 1', 'Anterior cingulate area, dorsal part, layer 2/3', 'Anterior cingulate area, dorsal part, layer 5', 'Anterior cingulate area, dorsal part, layer 6a', 'Anterior cingulate area, dorsal part, layer 6b', 'Anterior cingulate area, ventral part', 'Anterior cingulate area, ventral part, layer 1', 'Anterior cingulate area, ventral part, layer 2/3', 'Anterior cingulate area, ventral part, layer 5', 'Anterior cingulate area, ventral part, 6a', 'Anterior cingulate area, ventral part, 6b', 'Prelimbic area', 'Prelimbic area, layer 1', 'Prelimbic area, layer 2/3', 'Prelimbic area, layer 5', 'Prelimbic area, layer 6a', 'Prelimbic area, layer 6b', 'Infralimbic area', 'Infralimbic area, layer 1', 'Infralimbic area, layer 2/3', 'Infralimbic area, layer 5', 'Infralimbic area, layer 6a', 'Infralimbic area, layer 6b', 'Orbital area', 'Orbital area, lateral part', 'Orbital area, lateral part, layer 1', 'Orbital area, lateral part, layer 2/3', 'Orbital area, lateral part, layer 5', 'Orbital area, lateral part, layer 6a', 'Orbital area, lateral part, layer 6b', 'Orbital area, medial part', 'Orbital area, medial part, layer 1', 'Orbital area, medial part, layer 2/3', 'Orbital area, medial part, layer 5', 'Orbital area, medial part, layer 6a', 'Orbital area, medial part, layer 6b', 'Orbital area, ventrolateral part', 'Orbital area, ventrolateral part, layer 1', 'Orbital area, ventrolateral part, layer 2/3', 'Orbital area, ventrolateral part, layer 5', 'Orbital area, ventrolateral part, layer 6a', 'Orbital area, ventrolateral part, layer 6b', 'Agranular insular area', 'Agranular insular area, dorsal part', 'Agranular insular area, dorsal part, layer 1', 'Agranular insular area, dorsal part, layer 2/3', 'Agranular insular area, dorsal part, layer 5', 'Agranular insular area, dorsal part, layer 6a', 'Agranular insular area, dorsal part, layer 6b', 'Agranular insular area, posterior part', 'Agranular insular area, posterior part, layer 1', 'Agranular insular area, posterior part, layer 2/3', 'Agranular insular area, posterior part, layer 5', 'Agranular insular area, posterior part, layer 6a', 'Agranular insular area, posterior part, layer 6b', 'Agranular insular area, ventral part', 'Agranular insular area, ventral part, layer 1', 'Agranular insular area, ventral part, layer 2/3', 'Agranular insular area, ventral part, layer 5', 'Agranular insular area, ventral part, layer 6a', 'Agranular insular area, ventral part, layer 6b', 'Retrosplenial area', 'Retrosplenial area, lateral agranular part', 'Retrosplenial area, lateral agranular part, layer 1', 'Retrosplenial area, lateral agranular part, layer 2/3', 'Retrosplenial area, lateral agranular part, layer 5', 'Retrosplenial area, lateral agranular part, layer 6a', 'Retrosplenial area, lateral agranular part, layer 6b', 'Retrosplenial area, dorsal part', 'Retrosplenial area, dorsal part, layer 1', 'Retrosplenial area, dorsal part, layer 2/3', 'Retrosplenial area, dorsal part, layer 5', 'Retrosplenial area, dorsal part, layer 6a', 'Retrosplenial area, dorsal part, layer 6b', 'Retrosplenial area, ventral part', 'Retrosplenial area, ventral part, layer 1', 'Retrosplenial area, ventral part, layer 2/3', 'Retrosplenial area, ventral part, layer 5', 'Retrosplenial area, ventral part, layer 6a', 'Retrosplenial area, ventral part, layer 6b', 'Posterior parietal association areas', 'Anterior area', 'Anterior area, layer 1', 'Anterior area, layer 2/3', 'Anterior area, layer 4', 'Anterior area, layer 5', 'Anterior area, layer 6a', 'Anterior area, layer 6b', 'Rostrolateral visual area', 'Rostrolateral area, layer 1', 'Rostrolateral area, layer 2/3', 'Rostrolateral area, layer 4', 'Rostrolateral area, layer 5', 'Rostrolateral area, layer 6a', 'Rostrolateral area, layer 6b', 'Temporal association areas', 'Temporal association areas, layer 1', 'Temporal association areas, layer 2/3', 'Temporal association areas, layer 4', 'Temporal association areas, layer 5', 'Temporal association areas, layer 6a', 'Temporal association areas, layer 6b', 'Perirhinal area', 'Perirhinal area, layer 1', 'Perirhinal area, layer 2/3', 'Perirhinal area, layer 5', 'Perirhinal area, layer 6a', 'Perirhinal area, layer 6b', 'Ectorhinal area', 'Ectorhinal area/Layer 1', 'Ectorhinal area/Layer 2/3', 'Ectorhinal area/Layer 5', 'Ectorhinal area/Layer 6a', 'Ectorhinal area/Layer 6b', 'Olfactory areas', 'Main olfactory bulb', 'Accessory olfactory bulb', 'Accessory olfactory bulb, glomerular layer', 'Accessory olfactory bulb, granular layer', 'Accessory olfactory bulb, mitral layer', 'Anterior olfactory nucleus', 'Taenia tecta', 'Taenia tecta, dorsal part', 'Taenia tecta, ventral part', 'Dorsal peduncular area', 'Piriform area', 'Nucleus of the lateral olfactory tract', 'Nucleus of the lateral olfactory tract, molecular layer', 'Nucleus of the lateral olfactory tract, pyramidal layer', 'Nucleus of the lateral olfactory tract, layer 3', 'Cortical amygdalar area', 'Cortical amygdalar area, anterior part', 'Cortical amygdalar area, posterior part', 'Cortical amygdalar area, posterior part, lateral zone', 'Cortical amygdalar area, posterior part, medial zone', 'Piriform-amygdalar area', 'Postpiriform transition area', 'Hippocampal formation', 'Hippocampal region', \"Ammon's horn\", 'Field CA1', 'Field CA2', 'Field CA3', 'Dentate gyrus', 'Dentate gyrus, molecular layer', 'Dentate gyrus, polymorph layer', 'Dentate gyrus, granule cell layer', 'Fasciola cinerea', 'Induseum griseum', 'Retrohippocampal region', 'Entorhinal area', 'Entorhinal area, lateral part', 'Entorhinal area, lateral part, layer 1', 'Entorhinal area, lateral part, layer 2', 'Entorhinal area, lateral part, layer 3', 'Entorhinal area, lateral part, layer 5', 'Entorhinal area, lateral part, layer 6a', 'Entorhinal area, medial part, dorsal zone', 'Entorhinal area, medial part, dorsal zone, layer 1', 'Entorhinal area, medial part, dorsal zone, layer 2', 'Entorhinal area, medial part, dorsal zone, layer 3', 'Entorhinal area, medial part, dorsal zone, layer 5', 'Entorhinal area, medial part, dorsal zone, layer 6', 'Parasubiculum', 'Postsubiculum', 'Presubiculum', 'Subiculum', 'Prosubiculum', 'Hippocampo-amygdalar transition area', 'Area prostriata', 'Cortical subplate', 'Claustrum', 'Endopiriform nucleus', 'Endopiriform nucleus, dorsal part', 'Endopiriform nucleus, ventral part', 'Lateral amygdalar nucleus', 'Basolateral amygdalar nucleus', 'Basolateral amygdalar nucleus, anterior part', 'Basolateral amygdalar nucleus, posterior part', 'Basolateral amygdalar nucleus, ventral part', 'Basomedial amygdalar nucleus', 'Basomedial amygdalar nucleus, anterior part', 'Basomedial amygdalar nucleus, posterior part', 'Posterior amygdalar nucleus', 'Cerebral nuclei', 'Striatum', 'Striatum dorsal region', 'Caudoputamen', 'Striatum ventral region', 'Nucleus accumbens', 'Fundus of striatum', 'Olfactory tubercle', 'Lateral septal complex', 'Lateral septal nucleus', 'Lateral septal nucleus, caudal (caudodorsal) part', 'Lateral septal nucleus, rostral (rostroventral) part', 'Lateral septal nucleus, ventral part', 'Septofimbrial nucleus', 'Septohippocampal nucleus', 'Striatum-like amygdalar nuclei', 'Anterior amygdalar area', 'Bed nucleus of the accessory olfactory tract', 'Central amygdalar nucleus', 'Central amygdalar nucleus, capsular part', 'Central amygdalar nucleus, lateral part', 'Central amygdalar nucleus, medial part', 'Intercalated amygdalar nucleus', 'Medial amygdalar nucleus', 'Pallidum', 'Pallidum, dorsal region', 'Globus pallidus, external segment', 'Globus pallidus, internal segment', 'Pallidum, ventral region', 'Substantia innominata', 'Magnocellular nucleus', 'Pallidum, medial region', 'Medial septal complex', 'Medial septal nucleus', 'Diagonal band nucleus', 'Triangular nucleus of septum', 'Pallidum, caudal region', 'Bed nuclei of the stria terminalis', 'Bed nucleus of the anterior commissure', 'Brain stem', 'Interbrain', 'Thalamus', 'Thalamus, sensory-motor cortex related', 'Ventral group of the dorsal thalamus', 'Ventral anterior-lateral complex of the thalamus', 'Ventral medial nucleus of the thalamus', 'Ventral posterior complex of the thalamus', 'Ventral posterolateral nucleus of the thalamus', 'Ventral posterolateral nucleus of the thalamus, parvicellular part', 'Ventral posteromedial nucleus of the thalamus', 'Ventral posteromedial nucleus of the thalamus, parvicellular part', 'Posterior triangular thalamic nucleus', 'Subparafascicular nucleus', 'Subparafascicular nucleus, magnocellular part', 'Subparafascicular nucleus, parvicellular part', 'Subparafascicular area', 'Peripeduncular nucleus', 'Geniculate group, dorsal thalamus', 'Medial geniculate complex', 'Medial geniculate complex, dorsal part', 'Medial geniculate complex, ventral part', 'Medial geniculate complex, medial part', 'Dorsal part of the lateral geniculate complex', 'Dorsal part of the lateral geniculate complex, shell', 'Dorsal part of the lateral geniculate complex, core', 'Dorsal part of the lateral geniculate complex, ipsilateral zone', 'Thalamus, polymodal association cortex related', 'Lateral group of the dorsal thalamus', 'Lateral posterior nucleus of the thalamus', 'Posterior complex of the thalamus', 'Posterior limiting nucleus of the thalamus', 'Suprageniculate nucleus', 'Ethmoid nucleus of the thalamus', 'Anterior group of the dorsal thalamus', 'Anteroventral nucleus of thalamus', 'Anteromedial nucleus', 'Anteromedial nucleus, dorsal part', 'Anteromedial nucleus, ventral part', 'Anterodorsal nucleus', 'Interanteromedial nucleus of the thalamus', 'Interanterodorsal nucleus of the thalamus', 'Lateral dorsal nucleus of thalamus', 'Medial group of the dorsal thalamus', 'Intermediodorsal nucleus of the thalamus', 'Mediodorsal nucleus of thalamus', 'Submedial nucleus of the thalamus', 'Perireunensis nucleus', 'Midline group of the dorsal thalamus', 'Paraventricular nucleus of the thalamus', 'Parataenial nucleus', 'Nucleus of reuniens', 'Xiphoid thalamic nucleus', 'Intralaminar nuclei of the dorsal thalamus', 'Rhomboid nucleus', 'Central medial nucleus of the thalamus', 'Paracentral nucleus', 'Central lateral nucleus of the thalamus', 'Parafascicular nucleus', 'Posterior intralaminar thalamic nucleus', 'Reticular nucleus of the thalamus', 'Geniculate group, ventral thalamus', 'Intergeniculate leaflet of the lateral geniculate complex', 'Intermediate geniculate nucleus', 'Ventral part of the lateral geniculate complex', 'Subgeniculate nucleus', 'Epithalamus', 'Medial habenula', 'Lateral habenula', 'Hypothalamus', 'Periventricular zone', 'Supraoptic nucleus', 'Accessory supraoptic group', 'Paraventricular hypothalamic nucleus', 'Periventricular hypothalamic nucleus, anterior part', 'Periventricular hypothalamic nucleus, intermediate part', 'Arcuate hypothalamic nucleus', 'Periventricular region', 'Anterodorsal preoptic nucleus', 'Anteroventral preoptic nucleus', 'Anteroventral periventricular nucleus', 'Dorsomedial nucleus of the hypothalamus', 'Median preoptic nucleus', 'Medial preoptic area', 'Vascular organ of the lamina terminalis', 'Posterodorsal preoptic nucleus', 'Parastrial nucleus', 'Periventricular hypothalamic nucleus, posterior part', 'Periventricular hypothalamic nucleus, preoptic part', 'Subparaventricular zone', 'Suprachiasmatic nucleus', 'Subfornical organ', 'Ventromedial preoptic nucleus', 'Ventrolateral preoptic nucleus', 'Hypothalamic medial zone', 'Anterior hypothalamic nucleus', 'Mammillary body', 'Lateral mammillary nucleus', 'Medial mammillary nucleus', 'Medial mammillary nucleus, median part', 'Medial mammillary nucleus, lateral part', 'Medial mammillary nucleus, medial part', 'Medial mammillary nucleus, posterior part', 'Medial mammillary nucleus, dorsal part', 'Supramammillary nucleus', 'Tuberomammillary nucleus', 'Tuberomammillary nucleus, dorsal part', 'Tuberomammillary nucleus, ventral part', 'Medial preoptic nucleus', 'Dorsal premammillary nucleus', 'Ventral premammillary nucleus', 'Paraventricular hypothalamic nucleus, descending division', 'Ventromedial hypothalamic nucleus', 'Posterior hypothalamic nucleus', 'Hypothalamic lateral zone', 'Lateral hypothalamic area', 'Lateral preoptic area', 'Preparasubthalamic nucleus', 'Parasubthalamic nucleus', 'Perifornical nucleus', 'Retrochiasmatic area', 'Subthalamic nucleus', 'Tuberal nucleus', 'Zona incerta', 'Fields of Forel', 'Median eminence', 'Midbrain', 'Midbrain, sensory related', 'Superior colliculus, sensory related', 'Superior colliculus, optic layer', 'Superior colliculus, superficial gray layer', 'Superior colliculus, zonal layer', 'Inferior colliculus', 'Inferior colliculus, central nucleus', 'Inferior colliculus, dorsal nucleus', 'Inferior colliculus, external nucleus', 'Nucleus of the brachium of the inferior colliculus', 'Nucleus sagulum', 'Parabigeminal nucleus', 'Midbrain trigeminal nucleus', 'Subcommissural organ', 'Midbrain, motor related', 'Substantia nigra, reticular part', 'Ventral tegmental area', 'Paranigral nucleus', 'Midbrain reticular nucleus, retrorubral area', 'Midbrain reticular nucleus', 'Superior colliculus, motor related', 'Superior colliculus, motor related, deep gray layer', 'Superior colliculus, motor related, deep white layer', 'Superior colliculus, motor related, intermediate white layer', 'Superior colliculus, motor related, intermediate gray layer', 'Periaqueductal gray', 'Precommissural nucleus', 'Interstitial nucleus of Cajal', 'Nucleus of Darkschewitsch', 'Supraoculomotor periaqueductal gray', 'Pretectal region', 'Anterior pretectal nucleus', 'Medial pretectal area', 'Nucleus of the optic tract', 'Nucleus of the posterior commissure', 'Olivary pretectal nucleus', 'Posterior pretectal nucleus', 'Retroparafascicular nucleus', 'Cuneiform nucleus', 'Red nucleus', 'Oculomotor nucleus', 'Medial accesory oculomotor nucleus', 'Edinger-Westphal nucleus', 'Trochlear nucleus', 'Paratrochlear nucleus', 'Ventral tegmental nucleus', 'Anterior tegmental nucleus', 'Lateral terminal nucleus of the accessory optic tract', 'Dorsal terminal nucleus of the accessory optic tract', 'Medial terminal nucleus of the accessory optic tract', 'Midbrain, behavioral state related', 'Substantia nigra, compact part', 'Pedunculopontine nucleus', 'Midbrain raphe nuclei', 'Interfascicular nucleus raphe', 'Interpeduncular nucleus', 'Interpeduncular nucleus, rostral', 'Interpeduncular nucleus, caudal', 'Interpeduncular nucleus, apical', 'Interpeduncular nucleus, lateral', 'Interpeduncular nucleus, intermediate', 'Interpeduncular nucleus, dorsomedial', 'Interpeduncular nucleus, dorsolateral', 'Interpeduncular nucleus, rostrolateral', 'Rostral linear nucleus raphe', 'Central linear nucleus raphe', 'Dorsal nucleus raphe', 'Hindbrain', 'Pons', 'Pons, sensory related', 'Nucleus of the lateral lemniscus', 'Principal sensory nucleus of the trigeminal', 'Parabrachial nucleus', 'Koelliker-Fuse subnucleus', 'Superior olivary complex', 'Superior olivary complex, periolivary region', 'Superior olivary complex, medial part', 'Superior olivary complex, lateral part', 'Pons, motor related', \"Barrington's nucleus\", 'Dorsal tegmental nucleus', 'Posterodorsal tegmental nucleus', 'Pontine central gray', 'Pontine gray', 'Pontine reticular nucleus, caudal part', 'Supragenual nucleus', 'Supratrigeminal nucleus', 'Tegmental reticular nucleus', 'Motor nucleus of trigeminal', 'Peritrigeminal zone', 'Accessory trigeminal nucleus', 'Parvicellular motor 5 nucleus', 'Intertrigeminal nucleus', 'Pons, behavioral state related', 'Superior central nucleus raphe', 'Locus ceruleus', 'Laterodorsal tegmental nucleus', 'Nucleus incertus', 'Pontine reticular nucleus', 'Nucleus raphe pontis', 'Subceruleus nucleus', 'Sublaterodorsal nucleus', 'Medulla', 'Medulla, sensory related', 'Area postrema', 'Cochlear nuclei', 'Dorsal cochlear nucleus', 'Ventral cochlear nucleus', 'Dorsal column nuclei', 'Cuneate nucleus', 'Gracile nucleus', 'External cuneate nucleus', 'Nucleus of the trapezoid body', 'Nucleus of the solitary tract', 'Spinal nucleus of the trigeminal, caudal part', 'Spinal nucleus of the trigeminal, interpolar part', 'Spinal nucleus of the trigeminal, oral part', 'Paratrigeminal nucleus', 'Medulla, motor related', 'Abducens nucleus', 'Facial motor nucleus', 'Accessory facial motor nucleus', 'Nucleus ambiguus', 'Nucleus ambiguus, dorsal division', 'Nucleus ambiguus, ventral division', 'Dorsal motor nucleus of the vagus nerve', 'Gigantocellular reticular nucleus', 'Infracerebellar nucleus', 'Inferior olivary complex', 'Intermediate reticular nucleus', 'Inferior salivatory nucleus', 'Linear nucleus of the medulla', 'Lateral reticular nucleus', 'Lateral reticular nucleus, magnocellular part', 'Lateral reticular nucleus, parvicellular part', 'Magnocellular reticular nucleus', 'Medullary reticular nucleus', 'Medullary reticular nucleus, dorsal part', 'Medullary reticular nucleus, ventral part', 'Parvicellular reticular nucleus', 'Parasolitary nucleus', 'Paragigantocellular reticular nucleus', 'Paragigantocellular reticular nucleus, dorsal part', 'Paragigantocellular reticular nucleus, lateral part', 'Perihypoglossal nuclei', 'Nucleus of Roller', 'Nucleus prepositus', 'Parapyramidal nucleus', 'Vestibular nuclei', 'Lateral vestibular nucleus', 'Medial vestibular nucleus', 'Spinal vestibular nucleus', 'Superior vestibular nucleus', 'Nucleus x', 'Hypoglossal nucleus', 'Nucleus y', 'Medulla, behavioral state related', 'Nucleus raphe magnus', 'Nucleus raphe pallidus', 'Nucleus raphe obscurus', 'Cerebellum', 'Cerebellar cortex', 'Vermal regions', 'Lingula (I)', 'Central lobule', 'Lobule II', 'Lobule III', 'Culmen', 'Lobules IV-V', 'Declive (VI)', 'Folium-tuber vermis (VII)', 'Pyramus (VIII)', 'Uvula (IX)', 'Nodulus (X)', 'Hemispheric regions', 'Simple lobule', 'Ansiform lobule', 'Crus 1', 'Crus 2', 'Paramedian lobule', 'Copula pyramidis', 'Paraflocculus', 'Flocculus', 'Cerebellar nuclei', 'Fastigial nucleus', 'Interposed nucleus', 'Dentate nucleus', 'Vestibulocerebellar nucleus', 'fiber tracts', 'cranial nerves', 'vomeronasal nerve', 'olfactory nerve', 'olfactory nerve layer of main olfactory bulb', 'lateral olfactory tract, general', 'lateral olfactory tract, body', 'dorsal limb', 'anterior commissure, olfactory limb', 'optic nerve', 'brachium of the superior colliculus', 'superior colliculus commissure', 'optic chiasm', 'optic tract', 'oculomotor nerve', 'medial longitudinal fascicle', 'posterior commissure', 'trochlear nerve', 'trigeminal nerve', 'motor root of the trigeminal nerve', 'sensory root of the trigeminal nerve', 'spinal tract of the trigeminal nerve', 'facial nerve', 'genu of the facial nerve', 'vestibulocochlear nerve', 'vestibular nerve', 'cochlear nerve', 'trapezoid body', 'dorsal acoustic stria', 'lateral lemniscus', 'inferior colliculus commissure', 'brachium of the inferior colliculus', 'vagus nerve', 'solitary tract', 'dorsal roots', 'cervicothalamic tract', 'dorsal column', 'cuneate fascicle', 'medial lemniscus', 'cerebellum related fiber tracts', 'cerebellar commissure', 'cerebellar peduncles', 'superior cerebelar peduncles', 'superior cerebellar peduncle decussation', 'uncinate fascicle', 'ventral spinocerebellar tract', 'middle cerebellar peduncle', 'inferior cerebellar peduncle', 'dorsal spinocerebellar tract', 'arbor vitae', 'supra-callosal cerebral white matter', 'lateral forebrain bundle system', 'corpus callosum', 'corpus callosum, anterior forceps', 'external capsule', 'corpus callosum, extreme capsule', 'genu of corpus callosum', 'corpus callosum, posterior forceps', 'corpus callosum, body', 'corpus callosum, splenium', 'corticospinal tract', 'internal capsule', 'cerebal peduncle', 'pyramid', 'pyramidal decussation', 'thalamus related', 'external medullary lamina of the thalamus', 'optic radiation', 'auditory radiation', 'extrapyramidal fiber systems', 'cerebral nuclei related', 'nigrostriatal tract', 'tectospinal pathway']\n"
          ]
        }
      ]
    },
    {
      "cell_type": "code",
      "source": [],
      "metadata": {
        "id": "H8jS1jutgBGt"
      },
      "execution_count": null,
      "outputs": []
    }
  ],
  "metadata": {
    "kernelspec": {
      "display_name": "Python 3",
      "name": "python3"
    },
    "language_info": {
      "codemirror_mode": {
        "name": "ipython",
        "version": 3
      },
      "file_extension": ".py",
      "mimetype": "text/x-python",
      "name": "python",
      "nbconvert_exporter": "python",
      "pygments_lexer": "ipython3",
      "version": "3.7.3"
    },
    "colab": {
      "provenance": [],
      "machine_shape": "hm"
    }
  },
  "nbformat": 4,
  "nbformat_minor": 0
}